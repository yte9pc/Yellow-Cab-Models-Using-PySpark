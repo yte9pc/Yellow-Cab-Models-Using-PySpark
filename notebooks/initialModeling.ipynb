{
 "cells": [
  {
   "cell_type": "code",
   "execution_count": 2,
   "metadata": {},
   "outputs": [],
   "source": [
    "from pyspark import SparkContext\n",
    "from pyspark import SparkConf\n",
    "from pyspark.sql import SparkSession\n",
    "from pyspark.sql import SQLContext\n",
    "from pyspark.sql.types import *\n",
    "from pyspark.sql import functions as F\n",
    "from pyspark.sql.functions import *\n",
    "\n",
    "import os\n",
    "import glob\n",
    "import matplotlib.pyplot as plt\n",
    "import numpy as np\n",
    "import seaborn as sns\n",
    "#import plotly_express as px\n",
    "\n",
    "sc = SparkContext.getOrCreate()\n",
    "spark = SparkSession(sc)"
   ]
  },
  {
   "cell_type": "markdown",
   "metadata": {},
   "source": [
    "### Function Reads Taxi Zone"
   ]
  },
  {
   "cell_type": "code",
   "execution_count": 2,
   "metadata": {},
   "outputs": [],
   "source": [
    "def taxiZone():\n",
    "    taxi = spark.read.csv(\"/home/yte9pc/Project/Yellow_Cab_Data/Taxi_Zone/taxi_zone_lookup.csv\", header = True)\n",
    "    return taxi"
   ]
  },
  {
   "cell_type": "markdown",
   "metadata": {},
   "source": [
    "### Function Reads Yellow Cab CSVs"
   ]
  },
  {
   "cell_type": "code",
   "execution_count": 32,
   "metadata": {},
   "outputs": [],
   "source": [
    "def yellowCSVToDF():\n",
    "    location = \"/home/yte9pc/Project/Yellow_Cab_Data/\"\n",
    "\n",
    "    files = sorted(glob.glob(location + '*.csv'))\n",
    "\n",
    "    for idx,f in enumerate(files):\n",
    "        if idx <= 2:\n",
    "            df = spark.read.csv(f, header = True)\n",
    "            print(f)\n",
    "\n",
    "            if idx == 0:\n",
    "                data = df\n",
    "            else:\n",
    "                data = data.union(df)\n",
    "    return data"
   ]
  },
  {
   "cell_type": "markdown",
   "metadata": {},
   "source": [
    "### Adds Taxi Zone for Pickup and Dropoff"
   ]
  },
  {
   "cell_type": "code",
   "execution_count": 33,
   "metadata": {},
   "outputs": [],
   "source": [
    "def yellowTaxiZone():\n",
    "    # Drop Temp View\n",
    "    spark.catalog.dropTempView(\"taxiZone\")\n",
    "    spark.catalog.dropTempView(\"yellowCab\")\n",
    "    \n",
    "    taxiZone().createTempView(\"taxiZone\")\n",
    "    yellowCSVToDF().createTempView(\"yellowCab\")\n",
    "    yellowCab = spark.sql(\"SELECT yellowCab.*, \\\n",
    "                     PU.Borough as PUBorough, PU.Zone as PUZone, PU.service_zone as PUSerivce_Zone, \\\n",
    "                     DO.Borough as DOBorough, DO.Zone as DOZone, DO.service_zone as DOSerivce_Zone\\\n",
    "                     FROM yellowCab \\\n",
    "                     INNER JOIN taxiZone PU\\\n",
    "                            ON yellowCab.PULocationID = PU.LocationID \\\n",
    "                     INNER JOIN taxiZone DO\\\n",
    "                            ON yellowCab.DOLocationID = DO.LocationID\")\n",
    "    return yellowCab"
   ]
  },
  {
   "cell_type": "code",
   "execution_count": 34,
   "metadata": {},
   "outputs": [
    {
     "name": "stdout",
     "output_type": "stream",
     "text": [
      "/home/yte9pc/Project/Yellow_Cab_Data/yellow_tripdata_2019-01.csv\n",
      "/home/yte9pc/Project/Yellow_Cab_Data/yellow_tripdata_2019-02.csv\n",
      "/home/yte9pc/Project/Yellow_Cab_Data/yellow_tripdata_2019-03.csv\n",
      "22354693\n"
     ]
    }
   ],
   "source": [
    "data = yellowTaxiZone()"
   ]
  },
  {
   "cell_type": "code",
   "execution_count": 31,
   "metadata": {},
   "outputs": [
    {
     "data": {
      "text/plain": [
       "22354693"
      ]
     },
     "execution_count": 31,
     "metadata": {},
     "output_type": "execute_result"
    }
   ],
   "source": [
    "#data.count()"
   ]
  },
  {
   "cell_type": "code",
   "execution_count": 27,
   "metadata": {},
   "outputs": [
    {
     "name": "stdout",
     "output_type": "stream",
     "text": [
      "+---------+----------------+--------------+---------+--------------------+--------------+\n",
      "|PUBorough|          PUZone|PUSerivce_Zone|DOBorough|              DOZone|DOSerivce_Zone|\n",
      "+---------+----------------+--------------+---------+--------------------+--------------+\n",
      "|Manhattan|Manhattan Valley|   Yellow Zone|Manhattan|Upper West Side S...|   Yellow Zone|\n",
      "+---------+----------------+--------------+---------+--------------------+--------------+\n",
      "only showing top 1 row\n",
      "\n"
     ]
    }
   ],
   "source": [
    "data.select(data.columns[-6:]).show(1)"
   ]
  },
  {
   "cell_type": "markdown",
   "metadata": {},
   "source": [
    "### Defining Column Types"
   ]
  },
  {
   "cell_type": "code",
   "execution_count": 28,
   "metadata": {},
   "outputs": [],
   "source": [
    "data = data.withColumn(\"tpep_pickup_datetime\", data[\"tpep_pickup_datetime\"].cast(TimestampType()))\\\n",
    "    .withColumn(\"tpep_dropoff_datetime\", data[\"tpep_dropoff_datetime\"].cast(TimestampType()))\\\n",
    "    .withColumn(\"passenger_count\", data[\"passenger_count\"].cast(IntegerType()))\\\n",
    "    .withColumn(\"trip_distance\", data[\"trip_distance\"].cast(FloatType()))\\\n",
    "    .withColumn(\"fare_amount\", data[\"fare_amount\"].cast(FloatType()))\\\n",
    "    .withColumn(\"extra\", data[\"extra\"].cast(FloatType()))\\\n",
    "    .withColumn(\"mta_tax\", data[\"mta_tax\"].cast(FloatType()))\\\n",
    "    .withColumn(\"tip_amount\", data[\"tip_amount\"].cast(FloatType()))\\\n",
    "    .withColumn(\"tolls_amount\", data[\"tolls_amount\"].cast(FloatType()))\\\n",
    "    .withColumn(\"improvement_surcharge\", data[\"improvement_surcharge\"].cast(FloatType()))\\\n",
    "    .withColumn(\"total_amount\", data[\"total_amount\"].cast(FloatType()))\\\n",
    "    .withColumn(\"congestion_surcharge\", data[\"congestion_surcharge\"].cast(FloatType()))"
   ]
  },
  {
   "cell_type": "markdown",
   "metadata": {},
   "source": [
    "### Adding Additional Features"
   ]
  },
  {
   "cell_type": "code",
   "execution_count": 29,
   "metadata": {},
   "outputs": [
    {
     "name": "stdout",
     "output_type": "stream",
     "text": [
      "+--------------------+-----------+---------------+---------------------+----------------+------------+-----------------+\n",
      "|tpep_pickup_datetime|pickup_hour|pickup_week_day|tpep_dropoff_datetime|dropoff_week_day|dropoff_hour|  trip_time(mins)|\n",
      "+--------------------+-----------+---------------+---------------------+----------------+------------+-----------------+\n",
      "| 2019-01-01 00:46:40|          0|        Tuesday|  2019-01-01 00:53:20|         Tuesday|           0|6.666666666666667|\n",
      "| 2019-01-01 00:59:47|          0|        Tuesday|  2019-01-01 01:18:59|         Tuesday|           1|             19.2|\n",
      "| 2018-12-21 13:48:30|         13|         Friday|  2018-12-21 13:52:40|          Friday|          13|4.166666666666667|\n",
      "+--------------------+-----------+---------------+---------------------+----------------+------------+-----------------+\n",
      "only showing top 3 rows\n",
      "\n"
     ]
    }
   ],
   "source": [
    "data = data.withColumn(\"pickup_week_day\", date_format(\"tpep_pickup_datetime\", \"EEEE\"))\\\n",
    "    .withColumn(\"pickup_hour\", hour(\"tpep_pickup_datetime\"))\\\n",
    "    .withColumn(\"dropoff_week_day\", date_format(\"tpep_dropoff_datetime\", \"EEEE\"))\\\n",
    "    .withColumn(\"dropoff_hour\", hour(\"tpep_dropoff_datetime\"))\\\n",
    "    .withColumn(\"trip_time(mins)\", (col(\"tpep_dropoff_datetime\").cast(LongType()) - col(\"tpep_pickup_datetime\").cast(LongType()))/60)\n",
    "data.select([\"tpep_pickup_datetime\", \"pickup_hour\", \"pickup_week_day\", \"tpep_dropoff_datetime\", \n",
    "             \"dropoff_week_day\", \"dropoff_hour\", \"trip_time(mins)\"]).show(3)"
   ]
  }
 ],
 "metadata": {
  "kernelspec": {
   "display_name": "DS 5559",
   "language": "python",
   "name": "ds5559"
  },
  "language_info": {
   "codemirror_mode": {
    "name": "ipython",
    "version": 3
   },
   "file_extension": ".py",
   "mimetype": "text/x-python",
   "name": "python",
   "nbconvert_exporter": "python",
   "pygments_lexer": "ipython3",
   "version": "3.7.6"
  }
 },
 "nbformat": 4,
 "nbformat_minor": 4
}
