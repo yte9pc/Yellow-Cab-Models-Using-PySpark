{
 "cells": [
  {
   "cell_type": "markdown",
   "metadata": {},
   "source": [
    "# Final Project Assignment\n",
    "# Yihnew Eshetu (yte9pc), Nathan England (nle4bz), and Karyne Williams (kw7me)"
   ]
  },
  {
   "cell_type": "code",
   "execution_count": 20,
   "metadata": {},
   "outputs": [],
   "source": [
    "from pyspark import SparkContext\n",
    "from pyspark import SparkConf\n",
    "from pyspark.sql import SparkSession\n",
    "from pyspark.sql import SQLContext\n",
    "from pyspark.sql.types import *\n",
    "from pyspark.sql import functions as F\n",
    "from pyspark.sql.functions import *\n",
    "from pyspark.ml.linalg import Vectors\n",
    "from pyspark.ml.stat import Correlation\n",
    "from pyspark.ml.linalg import DenseVector\n",
    "from pyspark.ml.feature import StandardScaler\n",
    "from pyspark.ml.feature import VectorAssembler \n",
    "from pyspark.ml.regression import LinearRegression\n",
    "from pyspark.ml.feature import ChiSqSelector\n",
    "from pyspark.ml.linalg import Vectors\n",
    "from pyspark.ml.regression import *\n",
    "from pyspark.ml import Pipeline \n",
    "from pyspark.ml.evaluation import RegressionEvaluator\n",
    "from pyspark.ml.tuning import CrossValidator, ParamGridBuilder\n",
    "\n",
    "import os\n",
    "import glob\n",
    "import matplotlib.pyplot as plt\n",
    "import numpy as np\n",
    "import seaborn as sns\n",
    "#import plotly_express as px\n",
    "\n",
    "sc = SparkContext.getOrCreate()\n",
    "spark = SparkSession(sc)"
   ]
  },
  {
   "cell_type": "markdown",
   "metadata": {},
   "source": [
    "## Data Import and Preprocessing"
   ]
  },
  {
   "cell_type": "markdown",
   "metadata": {},
   "source": [
    "### Function Reads Taxi Zone"
   ]
  },
  {
   "cell_type": "code",
   "execution_count": 21,
   "metadata": {},
   "outputs": [],
   "source": [
    "def taxiZone():\n",
    "    taxi = spark.read.csv(\"/sfs/qumulo/qhome/yte9pc/Project/Yellow_Cab_Data/Taxi_Zone/taxi_zone_lookup.csv\", header = True)\n",
    "    return taxi"
   ]
  },
  {
   "cell_type": "markdown",
   "metadata": {},
   "source": [
    "### Function Reads Yellow Cab CSVs"
   ]
  },
  {
   "cell_type": "code",
   "execution_count": 22,
   "metadata": {},
   "outputs": [],
   "source": [
    "def yellowCSVToDF():\n",
    "    location = \"/sfs/qumulo/qhome/yte9pc/Project/Yellow_Cab_Data/\"\n",
    "\n",
    "    files = sorted(glob.glob(location + '*.csv'))\n",
    "\n",
    "    for idx,f in enumerate(files):\n",
    "        df = spark.read.csv(f, header = True)\n",
    "        print(f)\n",
    "\n",
    "        if idx == 0:\n",
    "            data = df\n",
    "        else:\n",
    "            data = data.union(df)\n",
    "    return data"
   ]
  },
  {
   "cell_type": "markdown",
   "metadata": {},
   "source": [
    "### Adds Taxi Zone for Pickup and Dropoff"
   ]
  },
  {
   "cell_type": "code",
   "execution_count": 23,
   "metadata": {},
   "outputs": [
    {
     "name": "stdout",
     "output_type": "stream",
     "text": [
      "/sfs/qumulo/qhome/yte9pc/Project/Yellow_Cab_Data/yellow_tripdata_2019-05.csv\n",
      "/sfs/qumulo/qhome/yte9pc/Project/Yellow_Cab_Data/yellow_tripdata_2019-06.csv\n",
      "/sfs/qumulo/qhome/yte9pc/Project/Yellow_Cab_Data/yellow_tripdata_2019-07.csv\n",
      "/sfs/qumulo/qhome/yte9pc/Project/Yellow_Cab_Data/yellow_tripdata_2019-08.csv\n"
     ]
    }
   ],
   "source": [
    "def yellowTaxiZone():\n",
    "    # Drop Temp View\n",
    "    spark.catalog.dropTempView(\"taxiZone\")\n",
    "    spark.catalog.dropTempView(\"yellowCab\")\n",
    "    \n",
    "    taxiZone().createTempView(\"taxiZone\")\n",
    "    yellowCSVToDF().createTempView(\"yellowCab\")\n",
    "    yellowCab = spark.sql(\"SELECT yellowCab.*,\\\n",
    "                     CASE WHEN PU.Borough = 'Bronx'\\\n",
    "                          THEN 1\\\n",
    "                          WHEN PU.Borough = 'Brooklyn'\\\n",
    "                          THEN 2\\\n",
    "                          WHEN PU.Borough = 'EWR'\\\n",
    "                          THEN 3\\\n",
    "                          WHEN PU.Borough = 'Manhattan'\\\n",
    "                          THEN 4\\\n",
    "                          WHEN PU.Borough = 'Queens'\\\n",
    "                          THEN 5\\\n",
    "                          WHEN PU.Borough = 'Staten Island'\\\n",
    "                          THEN 6\\\n",
    "                          ELSE 7\\\n",
    "                     END as PUBorough,\\\n",
    "                     PU.Zone as PUZone,\\\n",
    "                     CASE WHEN PU.service_zone = 'Airports'\\\n",
    "                          THEN 1\\\n",
    "                          WHEN PU.service_zone = 'Boro Zone'\\\n",
    "                          THEN 2\\\n",
    "                          WHEN PU.service_zone = 'EWR'\\\n",
    "                          THEN 3\\\n",
    "                          WHEN PU.service_zone = 'Yellow Zone'\\\n",
    "                          THEN 4\\\n",
    "                          ELSE 5\\\n",
    "                     END as PUService_Zone,\\\n",
    "                     CASE WHEN DO.Borough = 'Bronx'\\\n",
    "                          THEN 1\\\n",
    "                          WHEN DO.Borough = 'Brooklyn'\\\n",
    "                          THEN 2\\\n",
    "                          WHEN DO.Borough = 'EWR'\\\n",
    "                          THEN 3\\\n",
    "                          WHEN DO.Borough = 'Manhattan'\\\n",
    "                          THEN 4\\\n",
    "                          WHEN DO.Borough = 'Queens'\\\n",
    "                          THEN 5\\\n",
    "                          WHEN DO.Borough = 'Staten Island'\\\n",
    "                          THEN 6\\\n",
    "                          ELSE 7\\\n",
    "                     END as DOBorough,\\\n",
    "                     DO.Zone as DOZone,\\\n",
    "                     CASE WHEN DO.service_zone = 'Airports'\\\n",
    "                          THEN 1\\\n",
    "                          WHEN DO.service_zone = 'Boro Zone'\\\n",
    "                          THEN 2\\\n",
    "                          WHEN DO.service_zone = 'EWR'\\\n",
    "                          THEN 3\\\n",
    "                          WHEN DO.service_zone = 'Yellow Zone'\\\n",
    "                          THEN 4\\\n",
    "                          ELSE 5\\\n",
    "                     END as DOService_Zone\\\n",
    "                     FROM yellowCab \\\n",
    "                     INNER JOIN taxiZone PU\\\n",
    "                            ON yellowCab.PULocationID = PU.LocationID \\\n",
    "                     INNER JOIN taxiZone DO\\\n",
    "                            ON yellowCab.DOLocationID = DO.LocationID\")\n",
    "    return yellowCab\n",
    "data = yellowTaxiZone()"
   ]
  },
  {
   "cell_type": "markdown",
   "metadata": {},
   "source": [
    "### Drop duplicates"
   ]
  },
  {
   "cell_type": "code",
   "execution_count": 24,
   "metadata": {},
   "outputs": [],
   "source": [
    "data = data.dropDuplicates()"
   ]
  },
  {
   "cell_type": "markdown",
   "metadata": {},
   "source": [
    "### Defining Column Types"
   ]
  },
  {
   "cell_type": "code",
   "execution_count": 26,
   "metadata": {},
   "outputs": [],
   "source": [
    "data = data.withColumn(\"VendorID\", data[\"VendorID\"].cast(IntegerType()))\\\n",
    "    .withColumn(\"tpep_pickup_datetime\", data[\"tpep_pickup_datetime\"].cast(TimestampType()))\\\n",
    "    .withColumn(\"tpep_dropoff_datetime\", data[\"tpep_dropoff_datetime\"].cast(TimestampType()))\\\n",
    "    .withColumn(\"passenger_count\", data[\"passenger_count\"].cast(IntegerType()))\\\n",
    "    .withColumn(\"trip_distance\", data[\"trip_distance\"].cast(FloatType()))\\\n",
    "    .withColumn(\"RatecodeID\", data[\"RatecodeID\"].cast(IntegerType()))\\\n",
    "    .withColumn(\"PULocationID\", data[\"PULocationID\"].cast(IntegerType()))\\\n",
    "    .withColumn(\"DOLocationID\", data[\"DOLocationID\"].cast(IntegerType()))\\\n",
    "    .withColumn(\"payment_type\", data[\"payment_type\"].cast(IntegerType()))\\\n",
    "    .withColumn(\"fare_amount\", data[\"fare_amount\"].cast(FloatType()))\\\n",
    "    .withColumn(\"extra\", data[\"extra\"].cast(FloatType()))\\\n",
    "    .withColumn(\"mta_tax\", data[\"mta_tax\"].cast(FloatType()))\\\n",
    "    .withColumn(\"tip_amount\", data[\"tip_amount\"].cast(FloatType()))\\\n",
    "    .withColumn(\"tolls_amount\", data[\"tolls_amount\"].cast(FloatType()))\\\n",
    "    .withColumn(\"improvement_surcharge\", data[\"improvement_surcharge\"].cast(FloatType()))\\\n",
    "    .withColumn(\"total_amount\", data[\"total_amount\"].cast(FloatType()))\\\n",
    "    .withColumn(\"congestion_surcharge\", data[\"congestion_surcharge\"].cast(FloatType()))"
   ]
  },
  {
   "cell_type": "markdown",
   "metadata": {},
   "source": [
    "### Adding Additional Features"
   ]
  },
  {
   "cell_type": "code",
   "execution_count": 27,
   "metadata": {},
   "outputs": [
    {
     "name": "stdout",
     "output_type": "stream",
     "text": [
      "+--------------------+-----------+---------------+---------------------+----------------+------------+---------------+\n",
      "|tpep_pickup_datetime|pickup_hour|pickup_week_day|tpep_dropoff_datetime|dropoff_week_day|dropoff_hour|trip_time(mins)|\n",
      "+--------------------+-----------+---------------+---------------------+----------------+------------+---------------+\n",
      "| 2019-05-01 11:11:23|         11|              3|  2019-05-01 11:40:38|               3|          11|          29.25|\n",
      "| 2019-05-01 12:34:17|         12|              3|  2019-05-01 13:09:35|               3|          13|           35.3|\n",
      "| 2019-05-01 16:25:43|         16|              3|  2019-05-01 17:16:46|               3|          17|          51.05|\n",
      "+--------------------+-----------+---------------+---------------------+----------------+------------+---------------+\n",
      "only showing top 3 rows\n",
      "\n"
     ]
    }
   ],
   "source": [
    "data = data.withColumn(\"pickup_week_day\", date_format(\"tpep_pickup_datetime\", \"u\").cast(IntegerType()))\\\n",
    "    .withColumn(\"pickup_hour\", hour(\"tpep_pickup_datetime\"))\\\n",
    "    .withColumn(\"dropoff_week_day\", date_format(\"tpep_dropoff_datetime\", \"u\").cast(IntegerType()))\\\n",
    "    .withColumn(\"dropoff_hour\", hour(\"tpep_dropoff_datetime\"))\\\n",
    "    .withColumn(\"trip_time(mins)\", (col(\"tpep_dropoff_datetime\").cast(LongType()) - col(\"tpep_pickup_datetime\").cast(LongType()))/60)\\\n",
    "    .withColumn(\"distance/time\", (col(\"trip_distance\")/col(\"trip_time(mins)\")))\n",
    "data.select([\"tpep_pickup_datetime\", \"pickup_hour\", \"pickup_week_day\", \"tpep_dropoff_datetime\", \n",
    "             \"dropoff_week_day\", \"dropoff_hour\", \"trip_time(mins)\"]).show(3)"
   ]
  },
  {
   "cell_type": "markdown",
   "metadata": {},
   "source": [
    "### Drop na"
   ]
  },
  {
   "cell_type": "code",
   "execution_count": 45,
   "metadata": {},
   "outputs": [],
   "source": [
    "data = data.dropna()"
   ]
  },
  {
   "cell_type": "markdown",
   "metadata": {},
   "source": [
    "### Print Schema"
   ]
  },
  {
   "cell_type": "code",
   "execution_count": 28,
   "metadata": {},
   "outputs": [
    {
     "name": "stdout",
     "output_type": "stream",
     "text": [
      "root\n",
      " |-- VendorID: integer (nullable = true)\n",
      " |-- tpep_pickup_datetime: timestamp (nullable = true)\n",
      " |-- tpep_dropoff_datetime: timestamp (nullable = true)\n",
      " |-- passenger_count: integer (nullable = true)\n",
      " |-- trip_distance: float (nullable = true)\n",
      " |-- RatecodeID: integer (nullable = true)\n",
      " |-- store_and_fwd_flag: string (nullable = true)\n",
      " |-- PULocationID: integer (nullable = true)\n",
      " |-- DOLocationID: integer (nullable = true)\n",
      " |-- payment_type: integer (nullable = true)\n",
      " |-- fare_amount: float (nullable = true)\n",
      " |-- extra: float (nullable = true)\n",
      " |-- mta_tax: float (nullable = true)\n",
      " |-- tip_amount: float (nullable = true)\n",
      " |-- tolls_amount: float (nullable = true)\n",
      " |-- improvement_surcharge: float (nullable = true)\n",
      " |-- total_amount: float (nullable = true)\n",
      " |-- congestion_surcharge: float (nullable = true)\n",
      " |-- PUBorough: integer (nullable = false)\n",
      " |-- PUZone: string (nullable = true)\n",
      " |-- PUService_Zone: integer (nullable = false)\n",
      " |-- DOBorough: integer (nullable = false)\n",
      " |-- DOZone: string (nullable = true)\n",
      " |-- DOService_Zone: integer (nullable = false)\n",
      " |-- pickup_week_day: integer (nullable = true)\n",
      " |-- pickup_hour: integer (nullable = true)\n",
      " |-- dropoff_week_day: integer (nullable = true)\n",
      " |-- dropoff_hour: integer (nullable = true)\n",
      " |-- trip_time(mins): double (nullable = true)\n",
      " |-- distance/time: double (nullable = true)\n",
      "\n"
     ]
    }
   ],
   "source": [
    "data.printSchema()"
   ]
  },
  {
   "cell_type": "markdown",
   "metadata": {},
   "source": [
    "### Removing Outliers"
   ]
  },
  {
   "cell_type": "markdown",
   "metadata": {},
   "source": [
    "Possible Outliers\n",
    "- tip_amount is null\n",
    "- tip_amount is negative\n",
    "- payment_type is null\n",
    "- negative trip time"
   ]
  },
  {
   "cell_type": "markdown",
   "metadata": {},
   "source": [
    "### Remove cash and credit card payment where total amount is less than 0"
   ]
  },
  {
   "cell_type": "code",
   "execution_count": 46,
   "metadata": {},
   "outputs": [],
   "source": [
    "data = data.filter(((data.total_amount >= 0) & (data.payment_type <= 2)) | (data.payment_type > 2))"
   ]
  },
  {
   "cell_type": "markdown",
   "metadata": {},
   "source": [
    "### Remove rides with trip time less than 0 mins"
   ]
  },
  {
   "cell_type": "code",
   "execution_count": 47,
   "metadata": {},
   "outputs": [],
   "source": [
    "data = data.filter((col('trip_time(mins)') >= 0) & (col('trip_distance') >= 0))"
   ]
  },
  {
   "cell_type": "markdown",
   "metadata": {},
   "source": [
    "## Exploratory Data Analysis"
   ]
  },
  {
   "cell_type": "markdown",
   "metadata": {},
   "source": [
    "### Histogram of Tip Amount"
   ]
  },
  {
   "cell_type": "code",
   "execution_count": 59,
   "metadata": {},
   "outputs": [
    {
     "data": {
      "text/plain": [
       "Text(0.5, 0, 'Tip Amount')"
      ]
     },
     "execution_count": 59,
     "metadata": {},
     "output_type": "execute_result"
    },
    {
     "data": {
      "image/png": "[encoded data removed]",
      "text/plain": [
       "<Figure size 432x288 with 1 Axes>"
      ]
     },
     "metadata": {},
     "output_type": "display_data"
    }
   ],
   "source": [
    "tip_amount = data.filter(data.payment_type == 1)\n",
    "hists = tip_amount.select('tip_amount').rdd.flatMap(lambda row: row).histogram(5)\n",
    "data_hist = {\n",
    "    'bins': hists[0][:-1],\n",
    "    'freq': hists[1]\n",
    "    }\n",
    "plt.bar(data_hist['bins'], data_hist['freq'], width=10)\n",
    "plt.title('Histogram of ' + 'Tip Amount')\n",
    "plt.ylabel('Frequency')\n",
    "plt.xlabel('Tip Amount')"
   ]
  },
  {
   "cell_type": "markdown",
   "metadata": {},
   "source": [
    "### Correlation Matrix"
   ]
  },
  {
   "cell_type": "code",
   "execution_count": null,
   "metadata": {},
   "outputs": [],
   "source": [
    "df_corr = tip_amount.select(['passenger_count', 'trip_distance', 'fare_amount', 'extra', 'mta_tax', 'tip_amount', 'tolls_amount',\n",
    "             'improvement_surcharge', 'total_amount', 'congestion_surcharge', 'trip_time(mins)', 'distance/time'])\n",
    "assembler = VectorAssembler(inputCols=[col for col in df_corr.columns], outputCol=\"features\")\n",
    "dt = assembler.transform(df_corr)\n",
    "tip_amount_corr = Correlation.corr(dt, \"features\").head()\n",
    "corr = spark.createDataFrame(tip_amount_corr[0].toArray().tolist(), dt.columns[:-1])\n",
    "corr = corr.toPandas()\n",
    "corr['labels'] = dt.columns[:-1]\n",
    "corr.set_index('labels', inplace = True)"
   ]
  },
  {
   "cell_type": "code",
   "execution_count": null,
   "metadata": {},
   "outputs": [],
   "source": [
    "fig, ax = plt.subplots(figsize=(50,50)) \n",
    "sns.set(font_scale=5)\n",
    "ax = sns.heatmap(\n",
    "    corr, \n",
    "    vmin=-1, vmax=1, center=0,\n",
    "    cmap=sns.diverging_palette(20, 220, n=200),\n",
    "    square=True,\n",
    "    annot=True,\n",
    "    fmt=\".1f\",\n",
    "    annot_kws={'size':18}\n",
    ")\n",
    "ax.set_xticklabels(\n",
    "    ax.get_xticklabels(),\n",
    "    rotation=45,\n",
    "    horizontalalignment='right'\n",
    ");\n",
    "sns.set(font_scale=5)"
   ]
  },
  {
   "cell_type": "markdown",
   "metadata": {},
   "source": [
    "## We will construct a model to determine the tip amount of a taxis ride. \n",
    "What factors effect the amount of tip a passenger gives a driver? "
   ]
  },
  {
   "cell_type": "markdown",
   "metadata": {},
   "source": [
    "### Bench Mark Model - Linear"
   ]
  },
  {
   "cell_type": "code",
   "execution_count": null,
   "metadata": {},
   "outputs": [],
   "source": [
    "tip_amount = data.filter(data.payment_type == 1)"
   ]
  },
  {
   "cell_type": "code",
   "execution_count": null,
   "metadata": {},
   "outputs": [],
   "source": [
    "bench_mark_features = ['trip_distance', 'tolls_amount']\n",
    "bench_mark_data = tip_amount.select(col(\"tip_amount\").alias(\"label\"), *bench_mark_features)\n",
    "bench_mark_data.printSchema()"
   ]
  },
  {
   "cell_type": "code",
   "execution_count": null,
   "metadata": {},
   "outputs": [],
   "source": [
    "(training, test) = bench_mark_data.randomSplit([.8, .2])"
   ]
  },
  {
   "cell_type": "markdown",
   "metadata": {},
   "source": [
    "#### Pipeline for bench mark model"
   ]
  },
  {
   "cell_type": "code",
   "execution_count": null,
   "metadata": {},
   "outputs": [],
   "source": [
    "# Configure an ML pipeline, which consists of tree stages: vectorAssembler, standardScaler, and lr\n",
    "vectorAssembler = VectorAssembler(inputCols=bench_mark_features, outputCol=\"unscaled_features\")\n",
    "standardScaler = StandardScaler(inputCol=\"unscaled_features\", outputCol=\"features\")\n",
    "lr = LinearRegression(maxIter=10, regParam=.01)\n",
    "stages = [vectorAssembler, standardScaler, lr]\n",
    "pipeline = Pipeline(stages=stages)"
   ]
  },
  {
   "cell_type": "code",
   "execution_count": null,
   "metadata": {},
   "outputs": [],
   "source": [
    "model = pipeline.fit(training)\n",
    "prediction = model.transform(test)"
   ]
  },
  {
   "cell_type": "markdown",
   "metadata": {},
   "source": [
    "#### Model Evaluation"
   ]
  },
  {
   "cell_type": "code",
   "execution_count": null,
   "metadata": {},
   "outputs": [],
   "source": [
    "eval = RegressionEvaluator(labelCol=\"label\", predictionCol=\"prediction\", metricName=\"rmse\")\n",
    "# Mean Square Error\n",
    "mse = eval.evaluate(prediction, {eval.metricName: \"mse\"})\n",
    "print(\"MSE: %.3f\" % mse)\n",
    "\n",
    "# r2 - coefficient of determination\n",
    "r2 = eval.evaluate(prediction, {eval.metricName: \"r2\"})\n",
    "print(\"r2: %.3f\" %r2)\n",
    "\n",
    "adjr2 = 1 -(((1-r2)*(test.count()-1))/(test.count()-(len(test.columns)-1)-1))\n",
    "print(\"adjr2: %.3f\" %adjr2)"
   ]
  },
  {
   "cell_type": "markdown",
   "metadata": {},
   "source": [
    "### Champion Models"
   ]
  },
  {
   "cell_type": "markdown",
   "metadata": {},
   "source": [
    "#### Bench Mark Model - Linear with Model Selection and Tuning\n",
    "10 Fold Cross Validation and parameter tuning"
   ]
  },
  {
   "cell_type": "markdown",
   "metadata": {},
   "source": [
    "##### Pipeline"
   ]
  },
  {
   "cell_type": "code",
   "execution_count": null,
   "metadata": {},
   "outputs": [],
   "source": [
    "# Configure an ML pipeline, which consists of tree stages: vectorAssembler, standardScaler, and lr\n",
    "#vectorAssembler = VectorAssembler(inputCols=bench_mark_features, outputCol=\"unscaled_features\")\n",
    "#standardScaler = StandardScaler(inputCol=\"unscaled_features\", outputCol=\"features\")\n",
    "lr = LinearRegression(maxIter=10)\n",
    "stages = [vectorAssembler, standardScaler, lr]\n",
    "pipeline = Pipeline(stages=stages)\n",
    "\n",
    "# Elastic net parameter α set to 1, it is equivalent to a Lasso model. \n",
    "# if α is set to 0, the trained model reduces to a ridge regression model. \n",
    "paramGrid = ParamGridBuilder() \\\n",
    "    .addGrid(lr.regParam, [.01, 0.1, 0.3, 0.6]) \\\n",
    "    .addGrid(lr.elasticNetParam, [0, 0.3, 0.6, 1]) \\\n",
    "    .build()\n",
    "\n",
    "crossval = CrossValidator(estimator=pipeline,\n",
    "                          estimatorParamMaps=paramGrid,\n",
    "                          evaluator=RegressionEvaluator(),\n",
    "                          numFolds=10)  # use 10 folds\n",
    "\n",
    "# Run cross-validation, and choose the best set of parameters.\n",
    "cvModel = crossval.fit(training)"
   ]
  },
  {
   "cell_type": "code",
   "execution_count": null,
   "metadata": {},
   "outputs": [],
   "source": [
    "# Make predictions on test data. model is the model with combination of parameters that performed best.\n",
    "prediction_tuning = cvModel.transform(test)"
   ]
  },
  {
   "cell_type": "code",
   "execution_count": null,
   "metadata": {},
   "outputs": [],
   "source": [
    "eval = RegressionEvaluator(labelCol=\"label\", predictionCol=\"prediction\", metricName=\"rmse\")\n",
    "# Mean Square Error\n",
    "mse = eval.evaluate(prediction_tuning, {eval.metricName: \"mse\"})\n",
    "print(\"MSE: %.3f\" % mse)\n",
    "\n",
    "# r2 - coefficient of determination\n",
    "r2 = eval.evaluate(prediction_tuning, {eval.metricName: \"r2\"})\n",
    "print(\"r2: %.3f\" %r2)\n",
    "\n",
    "adjr2 = 1 -(((1-r2)*(test.count()-1))/(test.count()-(len(test.columns)-1)-1))\n",
    "print(\"adjr2: %.3f\" %adjr2)"
   ]
  },
  {
   "cell_type": "code",
   "execution_count": null,
   "metadata": {},
   "outputs": [],
   "source": [
    "cvModel.getEstimatorParamMaps()"
   ]
  },
  {
   "cell_type": "code",
   "execution_count": null,
   "metadata": {},
   "outputs": [],
   "source": [
    "cvModel.getEstimatorParamMaps()[np.argmax(cvModel.avgMetrics)]"
   ]
  }
 ],
 "metadata": {
  "kernelspec": {
   "display_name": "DS 5559",
   "language": "python",
   "name": "ds5559"
  },
  "language_info": {
   "codemirror_mode": {
    "name": "ipython",
    "version": 3
   },
   "file_extension": ".py",
   "mimetype": "text/x-python",
   "name": "python",
   "nbconvert_exporter": "python",
   "pygments_lexer": "ipython3",
   "version": "3.7.6"
  }
 },
 "nbformat": 4,
 "nbformat_minor": 4
}
