{
 "cells": [
  {
   "cell_type": "markdown",
   "metadata": {},
   "source": [
    "# Tip Amount\n",
    "    Yihnew Eshetu (yte9pc)\n",
    "    Nathan England (nle4bz)\n",
    "    Karyne Williams (kw7me)\n",
    " - Linear Regression Model (Benchmark)\n",
    " - Multiple Linear Regresion Model\n",
    " - Gradient-boosted Tree Regression"
   ]
  },
  {
   "cell_type": "code",
   "execution_count": 1,
   "metadata": {},
   "outputs": [
    {
     "data": {
      "text/html": [
       "\n",
       "            <div>\n",
       "                <p><b>SparkSession - in-memory</b></p>\n",
       "                \n",
       "        <div>\n",
       "            <p><b>SparkContext</b></p>\n",
       "\n",
       "            <p><a href=\"http://udc-ba26-28c1:4040\">Spark UI</a></p>\n",
       "\n",
       "            <dl>\n",
       "              <dt>Version</dt>\n",
       "                <dd><code>v2.4.5</code></dd>\n",
       "              <dt>Master</dt>\n",
       "                <dd><code>local[*]</code></dd>\n",
       "              <dt>AppName</dt>\n",
       "                <dd><code>pyspark-shell</code></dd>\n",
       "            </dl>\n",
       "        </div>\n",
       "        \n",
       "            </div>\n",
       "        "
      ],
      "text/plain": [
       "<pyspark.sql.session.SparkSession at 0x7f447c10c090>"
      ]
     },
     "execution_count": 1,
     "metadata": {},
     "output_type": "execute_result"
    }
   ],
   "source": [
    "from pyspark import SparkContext\n",
    "from pyspark import SparkConf\n",
    "from pyspark.sql import SparkSession\n",
    "from pyspark.sql import SQLContext\n",
    "from pyspark.sql.types import *\n",
    "from pyspark.sql import functions as F\n",
    "from pyspark.sql.functions import *\n",
    "from pyspark.ml.linalg import Vectors\n",
    "from pyspark.ml.stat import Correlation\n",
    "from pyspark.ml.linalg import DenseVector, Vectors\n",
    "from pyspark.ml.feature import StandardScaler, VectorAssembler, ChiSqSelector, VectorIndexer, StringIndexer, OneHotEncoder\n",
    "from pyspark.ml.regression import *\n",
    "from pyspark.ml import Pipeline \n",
    "from pyspark.ml.evaluation import RegressionEvaluator\n",
    "from pyspark.ml.tuning import CrossValidator, ParamGridBuilder\n",
    "\n",
    "import os\n",
    "import glob\n",
    "import matplotlib.pyplot as plt\n",
    "import numpy as np\n",
    "import seaborn as sns\n",
    "#import plotly_express as px\n",
    "\n",
    "spark = (\n",
    "    SparkSession \n",
    "    .builder \n",
    "    .master(\"local[*]\") \n",
    "    .appName(\"Tip Amount\") \n",
    "#     .config(\"spark.executor.memory\", '15g') \n",
    "#     .config('spark.executor.cores', '1') \n",
    "#     .config('spark.executor.instances', '1') \n",
    "#     .config(\"spark.driver.memory\",'15g') \n",
    "    .getOrCreate()\n",
    ")\n",
    "\n",
    "spark"
   ]
  },
  {
   "cell_type": "markdown",
   "metadata": {},
   "source": [
    "## Data Import and Preprocessing"
   ]
  },
  {
   "cell_type": "markdown",
   "metadata": {},
   "source": [
    "### Function Reads Taxi Zone"
   ]
  },
  {
   "cell_type": "code",
   "execution_count": 2,
   "metadata": {},
   "outputs": [],
   "source": [
    "def taxiZone():\n",
    "    taxi = spark.read.csv(\"/sfs/qumulo/qhome/yte9pc/Project/Yellow_Cab_Data/Taxi_Zone/taxi_zone_lookup.csv\", header = True)\n",
    "    return taxi"
   ]
  },
  {
   "cell_type": "markdown",
   "metadata": {},
   "source": [
    "### Function Reads Yellow Cab CSVs"
   ]
  },
  {
   "cell_type": "code",
   "execution_count": 3,
   "metadata": {},
   "outputs": [],
   "source": [
    "def yellowCSVToDF():\n",
    "    location = \"/sfs/qumulo/qhome/yte9pc/Project/Yellow_Cab_Data/Data/Raw_Data/\"\n",
    "\n",
    "    files = sorted(glob.glob(location + '*.csv'))\n",
    "\n",
    "    for idx,f in enumerate(files):\n",
    "        df = spark.read.csv(f, header = True)\n",
    "        print(f)\n",
    "\n",
    "        if idx == 0:\n",
    "            data = df\n",
    "        else:\n",
    "            data = data.union(df)\n",
    "    return data"
   ]
  },
  {
   "cell_type": "markdown",
   "metadata": {},
   "source": [
    "### Adds Taxi Zone for Pickup and Dropoff\n",
    "Include extra features such as pick up/drop off borough, and service zone "
   ]
  },
  {
   "cell_type": "code",
   "execution_count": 4,
   "metadata": {},
   "outputs": [
    {
     "name": "stdout",
     "output_type": "stream",
     "text": [
      "/sfs/qumulo/qhome/yte9pc/Project/Yellow_Cab_Data/Data/Raw_Data/yellow_tripdata_2019-05.csv\n",
      "/sfs/qumulo/qhome/yte9pc/Project/Yellow_Cab_Data/Data/Raw_Data/yellow_tripdata_2019-06.csv\n",
      "/sfs/qumulo/qhome/yte9pc/Project/Yellow_Cab_Data/Data/Raw_Data/yellow_tripdata_2019-07.csv\n",
      "/sfs/qumulo/qhome/yte9pc/Project/Yellow_Cab_Data/Data/Raw_Data/yellow_tripdata_2019-08.csv\n"
     ]
    }
   ],
   "source": [
    "def yellowTaxiZone():\n",
    "    # Drop Temp View if it exists\n",
    "    spark.catalog.dropTempView(\"taxiZone\")\n",
    "    spark.catalog.dropTempView(\"yellowCab\")\n",
    "    \n",
    "    # Create Temp View\n",
    "    taxiZone().createTempView(\"taxiZone\")\n",
    "    yellowCSVToDF().createTempView(\"yellowCab\")\n",
    "    yellowCab = spark.sql(\"SELECT yellowCab.*,\\\n",
    "                     CASE WHEN PU.Borough = 'Bronx'\\\n",
    "                          THEN 1\\\n",
    "                          WHEN PU.Borough = 'Brooklyn'\\\n",
    "                          THEN 2\\\n",
    "                          WHEN PU.Borough = 'EWR'\\\n",
    "                          THEN 3\\\n",
    "                          WHEN PU.Borough = 'Manhattan'\\\n",
    "                          THEN 4\\\n",
    "                          WHEN PU.Borough = 'Queens'\\\n",
    "                          THEN 5\\\n",
    "                          WHEN PU.Borough = 'Staten Island'\\\n",
    "                          THEN 6\\\n",
    "                          ELSE 7\\\n",
    "                     END as PUBorough,\\\n",
    "                     PU.Zone as PUZone,\\\n",
    "                     CASE WHEN PU.service_zone = 'Airports'\\\n",
    "                          THEN 1\\\n",
    "                          WHEN PU.service_zone = 'Boro Zone'\\\n",
    "                          THEN 2\\\n",
    "                          WHEN PU.service_zone = 'EWR'\\\n",
    "                          THEN 3\\\n",
    "                          WHEN PU.service_zone = 'Yellow Zone'\\\n",
    "                          THEN 4\\\n",
    "                          ELSE 5\\\n",
    "                     END as PUService_Zone,\\\n",
    "                     CASE WHEN DO.Borough = 'Bronx'\\\n",
    "                          THEN 1\\\n",
    "                          WHEN DO.Borough = 'Brooklyn'\\\n",
    "                          THEN 2\\\n",
    "                          WHEN DO.Borough = 'EWR'\\\n",
    "                          THEN 3\\\n",
    "                          WHEN DO.Borough = 'Manhattan'\\\n",
    "                          THEN 4\\\n",
    "                          WHEN DO.Borough = 'Queens'\\\n",
    "                          THEN 5\\\n",
    "                          WHEN DO.Borough = 'Staten Island'\\\n",
    "                          THEN 6\\\n",
    "                          ELSE 7\\\n",
    "                     END as DOBorough,\\\n",
    "                     DO.Zone as DOZone,\\\n",
    "                     CASE WHEN DO.service_zone = 'Airports'\\\n",
    "                          THEN 1\\\n",
    "                          WHEN DO.service_zone = 'Boro Zone'\\\n",
    "                          THEN 2\\\n",
    "                          WHEN DO.service_zone = 'EWR'\\\n",
    "                          THEN 3\\\n",
    "                          WHEN DO.service_zone = 'Yellow Zone'\\\n",
    "                          THEN 4\\\n",
    "                          ELSE 5\\\n",
    "                     END as DOService_Zone\\\n",
    "                     FROM yellowCab \\\n",
    "                     INNER JOIN taxiZone PU\\\n",
    "                            ON yellowCab.PULocationID = PU.LocationID \\\n",
    "                     INNER JOIN taxiZone DO\\\n",
    "                            ON yellowCab.DOLocationID = DO.LocationID\")\n",
    "    return yellowCab\n",
    "data = yellowTaxiZone()"
   ]
  },
  {
   "cell_type": "markdown",
   "metadata": {},
   "source": [
    "### Drop duplicates"
   ]
  },
  {
   "cell_type": "code",
   "execution_count": 5,
   "metadata": {},
   "outputs": [],
   "source": [
    "data = data.dropDuplicates()"
   ]
  },
  {
   "cell_type": "markdown",
   "metadata": {},
   "source": [
    "### Defining Column Types"
   ]
  },
  {
   "cell_type": "code",
   "execution_count": 6,
   "metadata": {},
   "outputs": [],
   "source": [
    "data = data.withColumn(\"VendorID\", data[\"VendorID\"].cast(StringType()))\\\n",
    "    .withColumn(\"tpep_pickup_datetime\", data[\"tpep_pickup_datetime\"].cast(TimestampType()))\\\n",
    "    .withColumn(\"tpep_dropoff_datetime\", data[\"tpep_dropoff_datetime\"].cast(TimestampType()))\\\n",
    "    .withColumn(\"passenger_count\", data[\"passenger_count\"].cast(IntegerType()))\\\n",
    "    .withColumn(\"trip_distance\", data[\"trip_distance\"].cast(FloatType()))\\\n",
    "    .withColumn(\"RatecodeID\", data[\"RatecodeID\"].cast(StringType()))\\\n",
    "    .withColumn(\"PULocationID\", data[\"PULocationID\"].cast(IntegerType()))\\\n",
    "    .withColumn(\"DOLocationID\", data[\"DOLocationID\"].cast(IntegerType()))\\\n",
    "    .withColumn(\"payment_type\", data[\"payment_type\"].cast(IntegerType()))\\\n",
    "    .withColumn(\"fare_amount\", data[\"fare_amount\"].cast(FloatType()))\\\n",
    "    .withColumn(\"extra\", data[\"extra\"].cast(FloatType()))\\\n",
    "    .withColumn(\"mta_tax\", data[\"mta_tax\"].cast(FloatType()))\\\n",
    "    .withColumn(\"tip_amount\", data[\"tip_amount\"].cast(FloatType()))\\\n",
    "    .withColumn(\"tolls_amount\", data[\"tolls_amount\"].cast(FloatType()))\\\n",
    "    .withColumn(\"improvement_surcharge\", data[\"improvement_surcharge\"].cast(FloatType()))\\\n",
    "    .withColumn(\"total_amount\", data[\"total_amount\"].cast(FloatType()))\\\n",
    "    .withColumn(\"congestion_surcharge\", data[\"congestion_surcharge\"].cast(FloatType()))"
   ]
  },
  {
   "cell_type": "markdown",
   "metadata": {},
   "source": [
    "### Adding Additional Features"
   ]
  },
  {
   "cell_type": "code",
   "execution_count": 7,
   "metadata": {},
   "outputs": [],
   "source": [
    "data = data.withColumn(\"pickup_week_day\", date_format(\"tpep_pickup_datetime\", \"u\").cast(IntegerType()))\\\n",
    "    .withColumn(\"pickup_hour\", hour(\"tpep_pickup_datetime\"))\\\n",
    "    .withColumn(\"dropoff_week_day\", date_format(\"tpep_dropoff_datetime\", \"u\").cast(IntegerType()))\\\n",
    "    .withColumn(\"dropoff_hour\", hour(\"tpep_dropoff_datetime\"))\\\n",
    "    .withColumn(\"trip_time(mins)\", (col(\"tpep_dropoff_datetime\").cast(LongType()) - col(\"tpep_pickup_datetime\").cast(LongType()))/60)\\\n",
    "    .withColumn(\"distance/time\", (col(\"trip_distance\")/col(\"trip_time(mins)\")))"
   ]
  },
  {
   "cell_type": "code",
   "execution_count": 8,
   "metadata": {},
   "outputs": [
    {
     "name": "stdout",
     "output_type": "stream",
     "text": [
      "+--------------------+-----------+---------------+---------------------+----------------+------------+---------------+\n",
      "|tpep_pickup_datetime|pickup_hour|pickup_week_day|tpep_dropoff_datetime|dropoff_week_day|dropoff_hour|trip_time(mins)|\n",
      "+--------------------+-----------+---------------+---------------------+----------------+------------+---------------+\n",
      "| 2019-05-01 11:11:23|         11|              3|  2019-05-01 11:40:38|               3|          11|          29.25|\n",
      "| 2019-05-01 12:34:17|         12|              3|  2019-05-01 13:09:35|               3|          13|           35.3|\n",
      "| 2019-05-01 16:25:43|         16|              3|  2019-05-01 17:16:46|               3|          17|          51.05|\n",
      "+--------------------+-----------+---------------+---------------------+----------------+------------+---------------+\n",
      "only showing top 3 rows\n",
      "\n"
     ]
    }
   ],
   "source": [
    "data.select([\"tpep_pickup_datetime\", \"pickup_hour\", \"pickup_week_day\", \"tpep_dropoff_datetime\", \n",
    "             \"dropoff_week_day\", \"dropoff_hour\", \"trip_time(mins)\"]).show(3)"
   ]
  },
  {
   "cell_type": "markdown",
   "metadata": {},
   "source": [
    "### Remove timestamp columns"
   ]
  },
  {
   "cell_type": "code",
   "execution_count": 9,
   "metadata": {},
   "outputs": [],
   "source": [
    "data = data.drop(\"tpep_pickup_datetime\").drop(\"tpep_dropoff_datetime\")"
   ]
  },
  {
   "cell_type": "markdown",
   "metadata": {},
   "source": [
    "### Drop NA"
   ]
  },
  {
   "cell_type": "code",
   "execution_count": 10,
   "metadata": {},
   "outputs": [],
   "source": [
    "data = data.dropna()"
   ]
  },
  {
   "cell_type": "markdown",
   "metadata": {},
   "source": [
    "### Print Schema"
   ]
  },
  {
   "cell_type": "code",
   "execution_count": 11,
   "metadata": {},
   "outputs": [
    {
     "name": "stdout",
     "output_type": "stream",
     "text": [
      "root\n",
      " |-- VendorID: string (nullable = true)\n",
      " |-- passenger_count: integer (nullable = true)\n",
      " |-- trip_distance: float (nullable = true)\n",
      " |-- RatecodeID: string (nullable = true)\n",
      " |-- store_and_fwd_flag: string (nullable = true)\n",
      " |-- PULocationID: integer (nullable = true)\n",
      " |-- DOLocationID: integer (nullable = true)\n",
      " |-- payment_type: integer (nullable = true)\n",
      " |-- fare_amount: float (nullable = true)\n",
      " |-- extra: float (nullable = true)\n",
      " |-- mta_tax: float (nullable = true)\n",
      " |-- tip_amount: float (nullable = true)\n",
      " |-- tolls_amount: float (nullable = true)\n",
      " |-- improvement_surcharge: float (nullable = true)\n",
      " |-- total_amount: float (nullable = true)\n",
      " |-- congestion_surcharge: float (nullable = true)\n",
      " |-- PUBorough: integer (nullable = false)\n",
      " |-- PUZone: string (nullable = true)\n",
      " |-- PUService_Zone: integer (nullable = false)\n",
      " |-- DOBorough: integer (nullable = false)\n",
      " |-- DOZone: string (nullable = true)\n",
      " |-- DOService_Zone: integer (nullable = false)\n",
      " |-- pickup_week_day: integer (nullable = true)\n",
      " |-- pickup_hour: integer (nullable = true)\n",
      " |-- dropoff_week_day: integer (nullable = true)\n",
      " |-- dropoff_hour: integer (nullable = true)\n",
      " |-- trip_time(mins): double (nullable = true)\n",
      " |-- distance/time: double (nullable = true)\n",
      "\n"
     ]
    }
   ],
   "source": [
    "data.printSchema()"
   ]
  },
  {
   "cell_type": "markdown",
   "metadata": {},
   "source": [
    "### Removing Outliers"
   ]
  },
  {
   "cell_type": "markdown",
   "metadata": {},
   "source": [
    "Possible Outliers\n",
    "- tip_amount is null\n",
    "- tip_amount is negative\n",
    "- payment_type is null\n",
    "- negative trip time"
   ]
  },
  {
   "cell_type": "markdown",
   "metadata": {},
   "source": [
    "### Remove cash and credit card payment where total amount is less than 0"
   ]
  },
  {
   "cell_type": "code",
   "execution_count": 12,
   "metadata": {},
   "outputs": [],
   "source": [
    "data = data.filter(((data.total_amount >= 0) & (data.payment_type <= 2)) | (data.payment_type > 2))"
   ]
  },
  {
   "cell_type": "markdown",
   "metadata": {},
   "source": [
    "### Remove rides with trip time less than 0 mins"
   ]
  },
  {
   "cell_type": "code",
   "execution_count": 13,
   "metadata": {},
   "outputs": [],
   "source": [
    "data = data.filter((col('trip_time(mins)') >= 0) & (col('trip_distance') >= 0))"
   ]
  },
  {
   "cell_type": "markdown",
   "metadata": {},
   "source": [
    "## Exploratory Data Analysis"
   ]
  },
  {
   "cell_type": "markdown",
   "metadata": {},
   "source": [
    "### Histogram of Tip Amount"
   ]
  },
  {
   "cell_type": "code",
   "execution_count": 14,
   "metadata": {},
   "outputs": [],
   "source": [
    "tip_amount = data.filter(data.payment_type == 1)"
   ]
  },
  {
   "cell_type": "code",
   "execution_count": 15,
   "metadata": {},
   "outputs": [
    {
     "name": "stdout",
     "output_type": "stream",
     "text": [
      "+-------+------------------+\n",
      "|summary|        tip_amount|\n",
      "+-------+------------------+\n",
      "|  count|          12696866|\n",
      "|   mean|3.1224676651878704|\n",
      "| stddev|2.9783664721843492|\n",
      "|    min|               0.0|\n",
      "|    25%|              1.75|\n",
      "|    50%|              2.36|\n",
      "|    75%|               3.5|\n",
      "|    max|             537.0|\n",
      "+-------+------------------+\n",
      "\n"
     ]
    }
   ],
   "source": [
    "tip_amount.select('tip_amount').summary().show()"
   ]
  },
  {
   "cell_type": "code",
   "execution_count": 16,
   "metadata": {},
   "outputs": [
    {
     "data": {
      "text/plain": [
       "Text(0.5, 0, 'Tip Amount')"
      ]
     },
     "execution_count": 16,
     "metadata": {},
     "output_type": "execute_result"
    },
    {
     "data": {
      "image/png": "[encoded data removed]",
      "text/plain": [
       "<Figure size 432x288 with 1 Axes>"
      ]
     },
     "metadata": {
      "needs_background": "light"
     },
     "output_type": "display_data"
    }
   ],
   "source": [
    "hists = tip_amount.select('tip_amount').rdd.flatMap(lambda row: row).histogram(500)\n",
    "data_hist = {\n",
    "    'bins': hists[0][:-1],\n",
    "    'freq': hists[1]\n",
    "    }\n",
    "plt.bar(data_hist['bins'], data_hist['freq'], width=10)\n",
    "plt.title('Histogram of ' + 'Tip Amount')\n",
    "plt.ylabel('Frequency')\n",
    "plt.xlabel('Tip Amount')"
   ]
  },
  {
   "cell_type": "markdown",
   "metadata": {},
   "source": [
    "### Correlation Matrix"
   ]
  },
  {
   "cell_type": "code",
   "execution_count": null,
   "metadata": {},
   "outputs": [],
   "source": [
    "df_corr = tip_amount.select(['passenger_count', 'trip_distance', 'fare_amount', 'extra', 'mta_tax', 'tip_amount', 'tolls_amount',\n",
    "             'improvement_surcharge', 'total_amount', 'congestion_surcharge', 'trip_time(mins)', 'distance/time'])\n",
    "df_corr = df_corr.dropna()\n",
    "df_corr = df_corr.select([col(c).cast(\"double\").alias(c) for c in df_corr.columns])\n",
    "assembler = VectorAssembler(inputCols=[col for col in df_corr.columns], outputCol=\"features\")\n",
    "dt = assembler.transform(df_corr)\n",
    "tip_amount_corr = Correlation.corr(dt, \"features\").head()\n",
    "corr = spark.createDataFrame(tip_amount_corr[0].toArray().tolist(), dt.columns[:-1])\n",
    "corr = corr.toPandas()\n",
    "corr['labels'] = dt.columns[:-1]\n",
    "corr.set_index('labels', inplace = True)"
   ]
  },
  {
   "cell_type": "code",
   "execution_count": null,
   "metadata": {},
   "outputs": [],
   "source": [
    "fig, ax = plt.subplots(figsize=(50,50)) \n",
    "sns.set(font_scale=5)\n",
    "ax = sns.heatmap(\n",
    "    corr, \n",
    "    vmin=-1, vmax=1, center=0,\n",
    "    cmap=sns.diverging_palette(20, 220, n=200),\n",
    "    square=True,\n",
    "    annot=True,\n",
    "    fmt=\".1f\",\n",
    "    annot_kws={'size':20}\n",
    ")\n",
    "ax.set_xticklabels(\n",
    "    ax.get_xticklabels(),\n",
    "    rotation=45,\n",
    "    horizontalalignment='right'\n",
    ");\n",
    "sns.set(font_scale=5)"
   ]
  },
  {
   "cell_type": "markdown",
   "metadata": {},
   "source": [
    "## We will construct a model to determine the tip amount of a taxi ride. \n",
    "What factors effect the amount of tip a passenger gives a driver? "
   ]
  },
  {
   "cell_type": "markdown",
   "metadata": {},
   "source": [
    "### Bench Mark Model - Linear"
   ]
  },
  {
   "cell_type": "code",
   "execution_count": 16,
   "metadata": {},
   "outputs": [
    {
     "name": "stdout",
     "output_type": "stream",
     "text": [
      "root\n",
      " |-- label: float (nullable = true)\n",
      " |-- fare_amount: float (nullable = true)\n",
      "\n"
     ]
    }
   ],
   "source": [
    "tip_amount = data.filter(data.payment_type == 1)\n",
    "bench_mark_features = ['fare_amount']\n",
    "bench_mark_data = tip_amount.select(col(\"tip_amount\").alias(\"label\"), *bench_mark_features)\n",
    "bench_mark_data.printSchema()"
   ]
  },
  {
   "cell_type": "code",
   "execution_count": 17,
   "metadata": {},
   "outputs": [],
   "source": [
    "(training, test) = bench_mark_data.randomSplit([.8, .2], seed = 10)"
   ]
  },
  {
   "cell_type": "markdown",
   "metadata": {},
   "source": [
    "#### Pipeline for bench mark model"
   ]
  },
  {
   "cell_type": "code",
   "execution_count": 18,
   "metadata": {},
   "outputs": [],
   "source": [
    "# Configure an ML pipeline, which consists of tree stages: vectorAssembler, standardScaler, and lr\n",
    "vectorAssembler = VectorAssembler(inputCols=bench_mark_features, outputCol=\"unscaled_features\")\n",
    "standardScaler = StandardScaler(inputCol=\"unscaled_features\", outputCol=\"features\")\n",
    "lr = LinearRegression(maxIter=10, regParam=.01)\n",
    "stages = [vectorAssembler, standardScaler, lr]\n",
    "pipeline = Pipeline(stages=stages)c"
   ]
  },
  {
   "cell_type": "code",
   "execution_count": 19,
   "metadata": {},
   "outputs": [],
   "source": [
    "model = pipeline.fit(training)\n",
    "prediction = model.transform(test)"
   ]
  },
  {
   "cell_type": "markdown",
   "metadata": {},
   "source": [
    "#### Model Evaluation"
   ]
  },
  {
   "cell_type": "code",
   "execution_count": 20,
   "metadata": {},
   "outputs": [
    {
     "name": "stdout",
     "output_type": "stream",
     "text": [
      "MSE: 4.498\n",
      "r2: 0.502\n",
      "adjr2: 0.502\n"
     ]
    }
   ],
   "source": [
    "eval = RegressionEvaluator(labelCol=\"label\", predictionCol=\"prediction\", metricName=\"rmse\")\n",
    "# Mean Square Error\n",
    "mse = eval.evaluate(prediction, {eval.metricName: \"mse\"})\n",
    "print(\"MSE: %.3f\" % mse)\n",
    "\n",
    "# r2 - coefficient of determination\n",
    "r2 = eval.evaluate(prediction, {eval.metricName: \"r2\"})\n",
    "print(\"r2: %.3f\" %r2)\n",
    "\n",
    "adjr2 = 1 -(((1-r2)*(test.count()-1))/(test.count()-(len(test.columns)-1)-1))\n",
    "print(\"adjr2: %.3f\" %adjr2)"
   ]
  },
  {
   "cell_type": "markdown",
   "metadata": {},
   "source": [
    "### Champion Models"
   ]
  },
  {
   "cell_type": "markdown",
   "metadata": {},
   "source": [
    "#### Linear with Model Selection and Tuning\n",
    "10 Fold Cross Validation and parameter tuning"
   ]
  },
  {
   "cell_type": "code",
   "execution_count": 24,
   "metadata": {},
   "outputs": [
    {
     "name": "stdout",
     "output_type": "stream",
     "text": [
      "root\n",
      " |-- label: float (nullable = true)\n",
      " |-- fare_amount: float (nullable = true)\n",
      " |-- trip_distance: float (nullable = true)\n",
      " |-- tolls_amount: float (nullable = true)\n",
      " |-- congestion_surcharge: float (nullable = true)\n",
      "\n"
     ]
    }
   ],
   "source": [
    "additional_features = ['fare_amount', 'trip_distance', 'tolls_amount', 'congestion_surcharge']\n",
    "additional_features_data = tip_amount.select(col(\"tip_amount\").alias(\"label\"), *additional_features)\n",
    "(training_add, test_add) = additional_features_data.randomSplit([.8, .2], seed = 10)\n",
    "additional_features_data.printSchema()"
   ]
  },
  {
   "cell_type": "markdown",
   "metadata": {},
   "source": [
    "Pipeline and Cross Validation"
   ]
  },
  {
   "cell_type": "code",
   "execution_count": 25,
   "metadata": {},
   "outputs": [],
   "source": [
    "# Configure an ML pipeline, which consists of tree stages: vectorAssembler, standardScaler, and lr\n",
    "vectorAssembler_add = VectorAssembler(inputCols=additional_features, outputCol=\"unscaled_features\")\n",
    "standardScaler_add = StandardScaler(inputCol=\"unscaled_features\", outputCol=\"features\")\n",
    "lr_add = LinearRegression()\n",
    "stages_add = [vectorAssembler_add, standardScaler_add, lr_add]\n",
    "pipeline_add = Pipeline(stages=stages_add)\n",
    "\n",
    "# Elastic net parameter α set to 1, it is equivalent to a Lasso model. \n",
    "# if α is set to 0, the trained model reduces to a ridge regression model. \n",
    "paramGrid = ParamGridBuilder() \\\n",
    "    .addGrid(lr_add.regParam, [.01, 0.1, 0.3, 0.6]) \\\n",
    "    .addGrid(lr_add.elasticNetParam, [0, 0.3, 0.6, 1]) \\\n",
    "    .build()"
   ]
  },
  {
   "cell_type": "code",
   "execution_count": 26,
   "metadata": {},
   "outputs": [],
   "source": [
    "crossval = CrossValidator(estimator=pipeline_add,\n",
    "                          estimatorParamMaps=paramGrid,\n",
    "                          evaluator=RegressionEvaluator(metricName=\"rmse\"),\n",
    "                          numFolds=10)  # use 10 folds\n",
    "\n",
    "# Run cross-validation, and choose the best set of parameters.\n",
    "cvModel = crossval.fit(training_add)"
   ]
  },
  {
   "cell_type": "code",
   "execution_count": 30,
   "metadata": {},
   "outputs": [],
   "source": [
    "# Save Model\n",
    "#cvlr_path = 'cv_lr'\n",
    "#cvModel.save(cvlr_path)\n",
    "#cvModel = LinearRegression.load(cvlr_path)"
   ]
  },
  {
   "cell_type": "code",
   "execution_count": 27,
   "metadata": {},
   "outputs": [
    {
     "data": {
      "text/plain": [
       "{Param(parent='LinearRegression_217b466c071e', name='aggregationDepth', doc='suggested depth for treeAggregate (>= 2)'): 2,\n",
       " Param(parent='LinearRegression_217b466c071e', name='elasticNetParam', doc='the ElasticNet mixing parameter, in range [0, 1]. For alpha = 0, the penalty is an L2 penalty. For alpha = 1, it is an L1 penalty'): 0.0,\n",
       " Param(parent='LinearRegression_217b466c071e', name='epsilon', doc='The shape parameter to control the amount of robustness. Must be > 1.0.'): 1.35,\n",
       " Param(parent='LinearRegression_217b466c071e', name='featuresCol', doc='features column name'): 'features',\n",
       " Param(parent='LinearRegression_217b466c071e', name='fitIntercept', doc='whether to fit an intercept term'): True,\n",
       " Param(parent='LinearRegression_217b466c071e', name='labelCol', doc='label column name'): 'label',\n",
       " Param(parent='LinearRegression_217b466c071e', name='loss', doc='The loss function to be optimized. Supported options: squaredError, huber. (Default squaredError)'): 'squaredError',\n",
       " Param(parent='LinearRegression_217b466c071e', name='maxIter', doc='maximum number of iterations (>= 0)'): 100,\n",
       " Param(parent='LinearRegression_217b466c071e', name='predictionCol', doc='prediction column name'): 'prediction',\n",
       " Param(parent='LinearRegression_217b466c071e', name='regParam', doc='regularization parameter (>= 0)'): 0.01,\n",
       " Param(parent='LinearRegression_217b466c071e', name='solver', doc='The solver algorithm for optimization. Supported options: auto, normal, l-bfgs. (Default auto)'): 'auto',\n",
       " Param(parent='LinearRegression_217b466c071e', name='standardization', doc='whether to standardize the training features before fitting the model'): True,\n",
       " Param(parent='LinearRegression_217b466c071e', name='tol', doc='the convergence tolerance for iterative algorithms (>= 0)'): 1e-06}"
      ]
     },
     "execution_count": 27,
     "metadata": {},
     "output_type": "execute_result"
    }
   ],
   "source": [
    "# Best model and its parameters\n",
    "bestLRModel = cvModel.bestModel.stages[2]\n",
    "bestLRParams = bestLRModel.extractParamMap()\n",
    "bestLRParams"
   ]
  },
  {
   "cell_type": "markdown",
   "metadata": {},
   "source": [
    "Prediction"
   ]
  },
  {
   "cell_type": "code",
   "execution_count": 28,
   "metadata": {},
   "outputs": [],
   "source": [
    "# Make predictions on test data. model is the model with combination of parameters that performed best.\n",
    "prediction_tuning = cvModel.transform(test_add)"
   ]
  },
  {
   "cell_type": "markdown",
   "metadata": {},
   "source": [
    "Model Evaluation"
   ]
  },
  {
   "cell_type": "code",
   "execution_count": 31,
   "metadata": {},
   "outputs": [
    {
     "name": "stdout",
     "output_type": "stream",
     "text": [
      "MSE: 4.175\n",
      "r2: 0.537\n",
      "adjr2: 0.537\n"
     ]
    }
   ],
   "source": [
    "eval = RegressionEvaluator(labelCol=\"label\", predictionCol=\"prediction\", metricName=\"rmse\")\n",
    "# Mean Square Error\n",
    "mse = eval.evaluate(prediction_tuning, {eval.metricName: \"mse\"})\n",
    "print(\"MSE: %.3f\" % mse)\n",
    "\n",
    "# r2 - coefficient of determination\n",
    "r2 = eval.evaluate(prediction_tuning, {eval.metricName: \"r2\"})\n",
    "print(\"r2: %.3f\" %r2)\n",
    "\n",
    "adjr2 = 1 -(((1-r2)*(test_add.count()-1))/(test_add.count()-(len(test_add.columns)-1)-1))\n",
    "print(\"adjr2: %.3f\" %adjr2)"
   ]
  },
  {
   "cell_type": "markdown",
   "metadata": {},
   "source": [
    "#### Gradient-boosted Tree Regression with Model Selection and Tuning"
   ]
  },
  {
   "cell_type": "code",
   "execution_count": 29,
   "metadata": {},
   "outputs": [
    {
     "data": {
      "text/plain": [
       "DataFrame[label: float, fare_amount: float, trip_distance: float, tolls_amount: float, congestion_surcharge: float, improvement_surcharge: float, PUBorough: int, DOBorough: int, trip_time(mins): double, distance/time: double, pickup_week_day: int]"
      ]
     },
     "execution_count": 29,
     "metadata": {},
     "output_type": "execute_result"
    }
   ],
   "source": [
    "GBT_features = ['fare_amount', 'trip_distance', 'tolls_amount', 'congestion_surcharge', 'improvement_surcharge', 'PUBorough', 'DOBorough', 'trip_time(mins)', 'distance/time', 'pickup_week_day']\n",
    "tip_amountGBT = tip_amount.select(col(\"tip_amount\").alias(\"label\"), *GBT_features)\n",
    "tip_amountGBT.cache()"
   ]
  },
  {
   "cell_type": "code",
   "execution_count": 30,
   "metadata": {},
   "outputs": [
    {
     "name": "stdout",
     "output_type": "stream",
     "text": [
      "root\n",
      " |-- label: float (nullable = true)\n",
      " |-- fare_amount: float (nullable = true)\n",
      " |-- trip_distance: float (nullable = true)\n",
      " |-- tolls_amount: float (nullable = true)\n",
      " |-- congestion_surcharge: float (nullable = true)\n",
      " |-- improvement_surcharge: float (nullable = true)\n",
      " |-- PUBorough: float (nullable = false)\n",
      " |-- DOBorough: float (nullable = false)\n",
      " |-- trip_time(mins): float (nullable = true)\n",
      " |-- distance/time: float (nullable = true)\n",
      " |-- pickup_week_day: float (nullable = true)\n",
      "\n"
     ]
    }
   ],
   "source": [
    "tip_amountGBT = tip_amountGBT.select([col(c).cast(\"float\").alias(c) for c in tip_amountGBT.columns])\n",
    "tip_amountGBT.printSchema()"
   ]
  },
  {
   "cell_type": "code",
   "execution_count": 31,
   "metadata": {},
   "outputs": [],
   "source": [
    "# Split into training and testing\n",
    "(GBTtraining, GBTtest) = tip_amountGBT.randomSplit([.8, .2], seed = 10)"
   ]
  },
  {
   "cell_type": "markdown",
   "metadata": {},
   "source": [
    "Create Pipeline"
   ]
  },
  {
   "cell_type": "code",
   "execution_count": 32,
   "metadata": {},
   "outputs": [],
   "source": [
    "vectorAssembler_GBT = VectorAssembler(inputCols=GBT_features, outputCol=\"rawFeatures\")\n",
    "# Automatically identify categorical features, and index them.\n",
    "# We specify maxCategories so features with > 7 distinct values are treated as continuous.\n",
    "vectorIndexer = VectorIndexer(inputCol=\"rawFeatures\", outputCol=\"features\", maxCategories=7)"
   ]
  },
  {
   "cell_type": "markdown",
   "metadata": {},
   "source": [
    "Prediction"
   ]
  },
  {
   "cell_type": "code",
   "execution_count": 45,
   "metadata": {},
   "outputs": [],
   "source": [
    "def gbtmodel(maxIter, maxDepth):\n",
    "\n",
    "    gbt = GBTRegressor(featuresCol=\"features\", maxIter = maxIter, maxDepth = maxDepth)\n",
    "    pipeline = Pipeline(stages=[vectorAssembler_GBT, vectorIndexer, gbt])\n",
    "    \n",
    "    # Train model.  This also runs the indexer.\n",
    "    gbtmodel = pipeline.fit(GBTtraining)\n",
    "    prediction_tuningGBT = gbtmodel.transform(GBTtest)\n",
    "    eval = RegressionEvaluator(labelCol=\"label\", predictionCol=\"prediction\", metricName=\"rmse\")\n",
    "    # Mean Square Error\n",
    "    mse = eval.evaluate(prediction_tuningGBT, {eval.metricName: \"mse\"})\n",
    "    print(\"MSE: %.3f\" % mse)\n",
    "\n",
    "    # r2 - coefficient of determination\n",
    "    r2 = eval.evaluate(prediction_tuningGBT, {eval.metricName: \"r2\"})\n",
    "    print(\"r2: %.3f\" %r2)\n",
    "\n",
    "    adjr2 = 1 -(((1-r2)*(GBTtest.count()-1))/(GBTtest.count()-(len(GBTtest.columns)-1)-1))\n",
    "    print(\"adjr2: %.3f\" %adjr2)"
   ]
  },
  {
   "cell_type": "markdown",
   "metadata": {},
   "source": [
    "Model Evaluation"
   ]
  },
  {
   "cell_type": "code",
   "execution_count": 37,
   "metadata": {},
   "outputs": [
    {
     "name": "stdout",
     "output_type": "stream",
     "text": [
      "MSE: 3.973\n",
      "r2: 0.545\n",
      "adjr2: 0.545\n"
     ]
    }
   ],
   "source": [
    "#maxIter = 5, maxDepth = 3\n",
    "gbtmodel(5, 3)"
   ]
  },
  {
   "cell_type": "code",
   "execution_count": 44,
   "metadata": {},
   "outputs": [
    {
     "name": "stdout",
     "output_type": "stream",
     "text": [
      "MSE: 3.767\n",
      "r2: 0.569\n",
      "adjr2: 0.569\n"
     ]
    }
   ],
   "source": [
    "#maxIter = 5, maxDepth = 5\n",
    "gbtmodel(5, 5)"
   ]
  },
  {
   "cell_type": "code",
   "execution_count": 46,
   "metadata": {},
   "outputs": [
    {
     "name": "stdout",
     "output_type": "stream",
     "text": [
      "MSE: 3.713\n",
      "r2: 0.575\n",
      "adjr2: 0.575\n"
     ]
    }
   ],
   "source": [
    "#maxIter = 10, maxDepth = 5\n",
    "gbtmodel(10, 5)"
   ]
  },
  {
   "cell_type": "code",
   "execution_count": 47,
   "metadata": {},
   "outputs": [
    {
     "name": "stdout",
     "output_type": "stream",
     "text": [
      "MSE: 3.649\n",
      "r2: 0.582\n",
      "adjr2: 0.582\n"
     ]
    }
   ],
   "source": [
    "#maxIter = 10, maxDepth = 10\n",
    "gbtmodel(10, 10)"
   ]
  },
  {
   "cell_type": "code",
   "execution_count": 49,
   "metadata": {},
   "outputs": [
    {
     "name": "stdout",
     "output_type": "stream",
     "text": [
      "MSE: 3.644\n",
      "r2: 0.583\n",
      "adjr2: 0.583\n"
     ]
    }
   ],
   "source": [
    "#maxIter = 15, maxDepth = 10\n",
    "gbtmodel(15, 10)"
   ]
  },
  {
   "cell_type": "markdown",
   "metadata": {},
   "source": [
    "**Was planning of using CrossValidator but the operation took too long.**"
   ]
  },
  {
   "cell_type": "code",
   "execution_count": null,
   "metadata": {},
   "outputs": [],
   "source": [
    "# This concatenates all feature columns into a single feature vector in a new column \"rawFeatures\".\n",
    "vectorAssembler_GBT = VectorAssembler(inputCols=GBT_features, outputCol=\"rawFeatures\")\n",
    "# Automatically identify categorical features, and index them.\n",
    "# We specify maxCategories so features with > 7 distinct values are treated as continuous.\n",
    "vectorIndexer = VectorIndexer(inputCol=\"rawFeatures\", outputCol=\"features\", maxCategories=7)\n",
    "# Takes the \"features\" column and learns to predict \"tip_amount\"\n",
    "GBT = GBTRegressor(featuresCol=\"features\")\n",
    "stageGBT = [vectorAssembler_GBT, vectorIndexer, GBT]\n",
    "pipelineGBT = Pipeline(stages=stageGBT)\n",
    "\n",
    "paramGridGBT = ParamGridBuilder() \\\n",
    "    .addGrid(GBT.maxDepth, [3, 5, 10]) \\\n",
    "    .addGrid(GBT.maxIter, [5, 10]) \\\n",
    "    .build()\n",
    "\n",
    "# Declare the CrossValidator, which runs model tuning\n",
    "crossvalGBT = CrossValidator(estimator=pipelineGBT,\n",
    "                          estimatorParamMaps=paramGridGBT,\n",
    "                          evaluator=RegressionEvaluator(metricName=\"rmse\"),\n",
    "                          numFolds=3)  # use 3 folds\n",
    "\n",
    "# Run cross-validation, and choose the best set of parameters.\n",
    "cvModelGBT = crossvalGBT.fit(GBTtraining)\n",
    "\n",
    "# Best model and its parameters\n",
    "bestModelGBT = cvModelGBT.bestModel.stages[2]\n",
    "bestGBTParams = bestModelGBT.extractParamMap()\n",
    "bestGBTParams\n",
    "\n",
    "# Make predictions on test data. model is the model with combination of parameters that performed best.\n",
    "prediction_tuningGBT = cvModelGBT.transform(GBTtest)\n",
    "eval = RegressionEvaluator(labelCol=\"label\", predictionCol=\"prediction\", metricName=\"rmse\")\n",
    "# Mean Square Error\n",
    "mse = eval.evaluate(predictions, {eval.metricName: \"mse\"})\n",
    "print(\"MSE: %.3f\" % mse)\n",
    "\n",
    "# r2 - coefficient of determination\n",
    "r2 = eval.evaluate(predictions, {eval.metricName: \"r2\"})\n",
    "print(\"r2: %.3f\" %r2)\n",
    "\n",
    "adjr2 = 1 -(((1-r2)*(GBTtest.count()-1))/(GBTtest.count()-(len(GBTtest.columns)-1)-1))\n",
    "print(\"adjr2: %.3f\" %adjr2)"
   ]
  },
  {
   "cell_type": "code",
   "execution_count": 1,
   "metadata": {},
   "outputs": [
    {
     "name": "stdout",
     "output_type": "stream",
     "text": [
      "[NbConvertApp] Converting notebook tipAmount.ipynb to pdf\n",
      "[NbConvertApp] Support files will be in tipAmount_files/\n",
      "[NbConvertApp] Making directory ./tipAmount_files\n",
      "[NbConvertApp] Writing 91155 bytes to ./notebook.tex\n",
      "[NbConvertApp] Building PDF\n",
      "[NbConvertApp] Running xelatex 3 times: ['xelatex', './notebook.tex', '-quiet']\n",
      "[NbConvertApp] Running bibtex 1 time: ['bibtex', './notebook']\n",
      "[NbConvertApp] WARNING | bibtex had problems, most likely because there were no citations\n",
      "[NbConvertApp] PDF successfully created\n",
      "[NbConvertApp] Writing 95754 bytes to tipAmount.pdf\n"
     ]
    }
   ],
   "source": [
    "!jupyter nbconvert --to pdf tipAmount.ipynb"
   ]
  },
  {
   "cell_type": "code",
   "execution_count": null,
   "metadata": {},
   "outputs": [],
   "source": []
  }
 ],
 "metadata": {
  "kernelspec": {
   "display_name": "DS 5559",
   "language": "python",
   "name": "ds5559"
  },
  "language_info": {
   "codemirror_mode": {
    "name": "ipython",
    "version": 3
   },
   "file_extension": ".py",
   "mimetype": "text/x-python",
   "name": "python",
   "nbconvert_exporter": "python",
   "pygments_lexer": "ipython3",
   "version": "3.7.6"
  }
 },
 "nbformat": 4,
 "nbformat_minor": 4
}
