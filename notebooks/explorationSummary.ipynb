{
 "cells": [
  {
   "cell_type": "markdown",
   "metadata": {},
   "source": [
    "# 5.11 Final Project Assignment\n",
    "## Yihnew Eshetu (yte9pc), Nathan England (nle4bz), and Karyne Williams (kw7me)"
   ]
  },
  {
   "cell_type": "markdown",
   "metadata": {},
   "source": [
    "At this point in the course, you should be training and evaluating models. Please create a Jupyter Notebook containing a concise summary of your dataset (described in submission instructions).\n",
    "\n",
    "- At a minimum, the file should include a summary containing:\n",
    "- Number of records\n",
    "- Number of columns\n",
    "- Statistical summary of response variable\n",
    "- Statistical summary of potential predictor variables (if there are a large number of predictors, select the top 10)\n",
    "- Note: Summarize categorical variables with counts and percentages for each level and summarize numerical variables with mean/quantiles/standard deviation.\n",
    "- Include up to five helpful graphs"
   ]
  },
  {
   "cell_type": "code",
   "execution_count": 55,
   "metadata": {},
   "outputs": [],
   "source": [
    "from pyspark import SparkContext\n",
    "from pyspark import SparkConf\n",
    "from pyspark.sql import SparkSession\n",
    "from pyspark.sql import SQLContext\n",
    "from pyspark.sql.types import *\n",
    "from pyspark.sql import functions as F\n",
    "from pyspark.sql.functions import stddev\n",
    "\n",
    "import os\n",
    "import glob\n",
    "import matplotlib.pyplot as plt\n",
    "import numpy as np\n",
    "import seaborn as sns\n",
    "\n",
    "sc = SparkContext.getOrCreate()\n",
    "spark = SparkSession(sc)"
   ]
  },
  {
   "cell_type": "markdown",
   "metadata": {},
   "source": [
    "## Yellow Cab"
   ]
  },
  {
   "cell_type": "code",
   "execution_count": 87,
   "metadata": {},
   "outputs": [
    {
     "name": "stdout",
     "output_type": "stream",
     "text": [
      "/home/yte9pc/Project/Yellow_Cab/yellow_tripdata_2019-01.csv 7667792 7667792\n",
      "/home/yte9pc/Project/Yellow_Cab/yellow_tripdata_2019-02.csv 7019375 14687167\n",
      "/home/yte9pc/Project/Yellow_Cab/yellow_tripdata_2019-03.csv 7667526 22354693\n",
      "/home/yte9pc/Project/Yellow_Cab/yellow_tripdata_2019-04.csv 7433139 29787832\n",
      "/home/yte9pc/Project/Yellow_Cab/yellow_tripdata_2019-05.csv 7565261 37353093\n",
      "/home/yte9pc/Project/Yellow_Cab/yellow_tripdata_2019-06.csv 2171886 39524979\n",
      "/home/yte9pc/Project/Yellow_Cab/yellow_tripdata_2019-07.csv 2130329 41655308\n",
      "/home/yte9pc/Project/Yellow_Cab/yellow_tripdata_2019-08.csv 6073357 47728665\n",
      "/home/yte9pc/Project/Yellow_Cab/yellow_tripdata_2019-09.csv 6567788 54296453\n",
      "/home/yte9pc/Project/Yellow_Cab/yellow_tripdata_2019-10.csv 7213891 61510344\n",
      "/home/yte9pc/Project/Yellow_Cab/yellow_tripdata_2019-11.csv 6878111 68388455\n",
      "/home/yte9pc/Project/Yellow_Cab/yellow_tripdata_2019-12.csv 6896317 75284772\n"
     ]
    }
   ],
   "source": [
    "location = \"/home/yte9pc/Project/Yellow_Cab/\"\n",
    "\n",
    "files = sorted(glob.glob(location + '*.csv'))\n",
    "\n",
    "summ = 0\n",
    "for idx,f in enumerate(files):\n",
    "    df = spark.read.csv(f, header = True)\n",
    "    \n",
    "    summ += df.count()\n",
    "    print(f, df.count(), summ)\n",
    "    if idx == 0:\n",
    "        data = df\n",
    "    else:\n",
    "        data = data.union(df)"
   ]
  },
  {
   "cell_type": "code",
   "execution_count": 88,
   "metadata": {},
   "outputs": [
    {
     "name": "stdout",
     "output_type": "stream",
     "text": [
      "root\n",
      " |-- VendorID: string (nullable = true)\n",
      " |-- tpep_pickup_datetime: string (nullable = true)\n",
      " |-- tpep_dropoff_datetime: string (nullable = true)\n",
      " |-- passenger_count: string (nullable = true)\n",
      " |-- trip_distance: string (nullable = true)\n",
      " |-- RatecodeID: string (nullable = true)\n",
      " |-- store_and_fwd_flag: string (nullable = true)\n",
      " |-- PULocationID: string (nullable = true)\n",
      " |-- DOLocationID: string (nullable = true)\n",
      " |-- payment_type: string (nullable = true)\n",
      " |-- fare_amount: string (nullable = true)\n",
      " |-- extra: string (nullable = true)\n",
      " |-- mta_tax: string (nullable = true)\n",
      " |-- tip_amount: string (nullable = true)\n",
      " |-- tolls_amount: string (nullable = true)\n",
      " |-- improvement_surcharge: string (nullable = true)\n",
      " |-- total_amount: string (nullable = true)\n",
      " |-- congestion_surcharge: string (nullable = true)\n",
      "\n"
     ]
    }
   ],
   "source": [
    "data.printSchema()"
   ]
  },
  {
   "cell_type": "code",
   "execution_count": 89,
   "metadata": {},
   "outputs": [
    {
     "name": "stdout",
     "output_type": "stream",
     "text": [
      "root\n",
      " |-- VendorID: string (nullable = true)\n",
      " |-- tpep_pickup_datetime: timestamp (nullable = true)\n",
      " |-- tpep_dropoff_datetime: timestamp (nullable = true)\n",
      " |-- passenger_count: integer (nullable = true)\n",
      " |-- trip_distance: float (nullable = true)\n",
      " |-- RatecodeID: string (nullable = true)\n",
      " |-- store_and_fwd_flag: string (nullable = true)\n",
      " |-- PULocationID: string (nullable = true)\n",
      " |-- DOLocationID: string (nullable = true)\n",
      " |-- payment_type: string (nullable = true)\n",
      " |-- fare_amount: float (nullable = true)\n",
      " |-- extra: float (nullable = true)\n",
      " |-- mta_tax: float (nullable = true)\n",
      " |-- tip_amount: float (nullable = true)\n",
      " |-- tolls_amount: float (nullable = true)\n",
      " |-- improvement_surcharge: float (nullable = true)\n",
      " |-- total_amount: float (nullable = true)\n",
      " |-- congestion_surcharge: float (nullable = true)\n",
      "\n"
     ]
    }
   ],
   "source": [
    "data = data.withColumn(\"tpep_pickup_datetime\", data[\"tpep_pickup_datetime\"].cast(TimestampType()))\\\n",
    "    .withColumn(\"tpep_dropoff_datetime\", data[\"tpep_dropoff_datetime\"].cast(TimestampType()))\\\n",
    "    .withColumn(\"passenger_count\", data[\"passenger_count\"].cast(IntegerType()))\\\n",
    "    .withColumn(\"trip_distance\", data[\"trip_distance\"].cast(FloatType()))\\\n",
    "    .withColumn(\"fare_amount\", data[\"fare_amount\"].cast(FloatType()))\\\n",
    "    .withColumn(\"extra\", data[\"extra\"].cast(FloatType()))\\\n",
    "    .withColumn(\"mta_tax\", data[\"mta_tax\"].cast(FloatType()))\\\n",
    "    .withColumn(\"tip_amount\", data[\"tip_amount\"].cast(FloatType()))\\\n",
    "    .withColumn(\"tolls_amount\", data[\"tolls_amount\"].cast(FloatType()))\\\n",
    "    .withColumn(\"improvement_surcharge\", data[\"improvement_surcharge\"].cast(FloatType()))\\\n",
    "    .withColumn(\"total_amount\", data[\"total_amount\"].cast(FloatType()))\\\n",
    "    .withColumn(\"congestion_surcharge\", data[\"congestion_surcharge\"].cast(FloatType()))\n",
    "\n",
    "data.printSchema()"
   ]
  },
  {
   "cell_type": "markdown",
   "metadata": {},
   "source": [
    "## Count of rows and columns"
   ]
  },
  {
   "cell_type": "code",
   "execution_count": 88,
   "metadata": {},
   "outputs": [
    {
     "name": "stdout",
     "output_type": "stream",
     "text": [
      "Count of rows: 75284772\n",
      "Count of columns: 18\n"
     ]
    }
   ],
   "source": [
    "print('Count of rows: {0}'.format(data.count()))\n",
    "print('Count of columns: {0}'.format(len(data.columns)))"
   ]
  },
  {
   "cell_type": "markdown",
   "metadata": {},
   "source": [
    "## Statistical summary of response variables\n",
    "- Possible response variable\n",
    "    - Payment Type\n",
    "    - Tip Amount"
   ]
  },
  {
   "cell_type": "code",
   "execution_count": 42,
   "metadata": {},
   "outputs": [],
   "source": [
    "def percentage(column):\n",
    "    count_level = data.groupby(column).count()\n",
    "    count_level_per = count_level.withColumn('percentage', count_level['count']/ float(data.count())).orderBy(F.col(column))\n",
    "    \n",
    "    return count_level_per"
   ]
  },
  {
   "cell_type": "code",
   "execution_count": 46,
   "metadata": {},
   "outputs": [],
   "source": [
    "def bar(df, x, y):\n",
    "    labels = df.toPandas()[x]\n",
    "    count = df.toPandas()[y]\n",
    "    ind = [x for x, _ in enumerate(labels)]\n",
    "    colors = ['gold', 'yellowgreen', 'lightcoral', 'blue', 'lightskyblue', 'green']\n",
    "\n",
    "    plt.figure(figsize=(10,8))\n",
    "    plt.bar(ind, count, width=0.8, label='count', color=colors)\n",
    "\n",
    "    plt.xticks(ind, labels)\n",
    "    plt.ylabel(y)\n",
    "    plt.xlabel('Count')\n",
    "    plt.show()\n",
    "\n",
    "def hist(df, x):\n",
    "    values = df.toPandas()[x]\n",
    "    bins = np.arange(0, 100, 5.0)\n",
    "\n",
    "    plt.figure(figsize=(10,8))\n",
    "    # the histogram of the data\n",
    "    plt.hist(values, bins, alpha=0.8, histtype='bar', color='gold',\n",
    "         ec='black',weights=np.zeros_like(values) + 100. / values.size)\n",
    "\n",
    "    plt.xlabel(x)\n",
    "    plt.ylabel('count')\n",
    "    plt.xticks(bins)\n",
    "    plt.show()"
   ]
  },
  {
   "cell_type": "code",
   "execution_count": 9,
   "metadata": {},
   "outputs": [
    {
     "name": "stdout",
     "output_type": "stream",
     "text": [
      "+------------+--------+--------------------+\n",
      "|payment_type|   count|          percentage|\n",
      "+------------+--------+--------------------+\n",
      "|        null|  212644|0.002824528710799...|\n",
      "|           1|54123093|  0.7189115615572297|\n",
      "|           2|20386696|   0.270794417760872|\n",
      "|           3|  396858|0.005271424611606...|\n",
      "|           4|  165478|0.002198027510795...|\n",
      "|           5|       3| 3.98486960948756E-8|\n",
      "+------------+--------+--------------------+\n",
      "\n"
     ]
    }
   ],
   "source": [
    "paymentType = percentage('payment_type')\n",
    "paymentType.show()"
   ]
  },
  {
   "cell_type": "code",
   "execution_count": 33,
   "metadata": {},
   "outputs": [
    {
     "data": {
      "image/png": "[encoded data removed]",
      "text/plain": [
       "<Figure size 720x576 with 1 Axes>"
      ]
     },
     "metadata": {
      "needs_background": "light"
     },
     "output_type": "display_data"
    }
   ],
   "source": [
    "bar(paymentType, 'payment_type', 'count')"
   ]
  },
  {
   "cell_type": "code",
   "execution_count": 6,
   "metadata": {},
   "outputs": [
    {
     "name": "stdout",
     "output_type": "stream",
     "text": [
      "+-------+------------------+\n",
      "|summary|        tip_amount|\n",
      "+-------+------------------+\n",
      "|  count|          75284769|\n",
      "|   mean|2.1890400254703284|\n",
      "| stddev| 16.54576610173628|\n",
      "|    min|            -200.8|\n",
      "|    25%|               0.0|\n",
      "|    50%|              1.86|\n",
      "|    75%|              2.95|\n",
      "|    max|         141492.02|\n",
      "+-------+------------------+\n",
      "\n"
     ]
    }
   ],
   "source": [
    "tip_amount = data.select('tip_amount')\n",
    "tip_amount.summary().show()"
   ]
  },
  {
   "cell_type": "code",
   "execution_count": 25,
   "metadata": {},
   "outputs": [],
   "source": [
    "filtertip = tip_amount.filter((tip_amount.tip_amount >= 0) & (tip_amount.tip_amount < 150))"
   ]
  },
  {
   "cell_type": "code",
   "execution_count": 26,
   "metadata": {},
   "outputs": [],
   "source": [
    "hists = filtertip.select('tip_amount').rdd.flatMap(lambda row: row).histogram(20)"
   ]
  },
  {
   "cell_type": "code",
   "execution_count": 30,
   "metadata": {},
   "outputs": [
    {
     "data": {
      "text/plain": [
       "Text(0.5, 0, 'Tip Amount')"
      ]
     },
     "execution_count": 30,
     "metadata": {},
     "output_type": "execute_result"
    },
    {
     "data": {
      "image/png": "[encoded data removed]",
      "text/plain": [
       "<Figure size 432x288 with 1 Axes>"
      ]
     },
     "metadata": {
      "needs_background": "light"
     },
     "output_type": "display_data"
    }
   ],
   "source": [
    "data_hist = {\n",
    "    'bins': hists[0][:-1],\n",
    "    'freq': hists[1]\n",
    "    }\n",
    "plt.bar(data_hist['bins'], data_hist['freq'], width=10)\n",
    "plt.title('Histogram of ' + 'Tip Amount')\n",
    "plt.ylabel('Frequency')\n",
    "plt.xlabel('Tip Amount')"
   ]
  },
  {
   "cell_type": "markdown",
   "metadata": {},
   "source": [
    "## Statistical summary of predictor variables"
   ]
  },
  {
   "cell_type": "code",
   "execution_count": 176,
   "metadata": {},
   "outputs": [
    {
     "name": "stdout",
     "output_type": "stream",
     "text": [
      "+--------+--------+--------------------+\n",
      "|VendorID|   count|          percentage|\n",
      "+--------+--------+--------------------+\n",
      "|    null|  212642|0.002824502145002179|\n",
      "|       1|27100009|  0.3599666742697979|\n",
      "|       2|47727077|  0.6339539289565757|\n",
      "|       4|  245044|0.003254894628624...|\n",
      "+--------+--------+--------------------+\n",
      "\n",
      "+----------+--------+--------------------+\n",
      "|RatecodeID|   count|          percentage|\n",
      "+----------+--------+--------------------+\n",
      "|      null|  212642|0.002824502145002179|\n",
      "|         1|72419257|  0.9619376545365642|\n",
      "|         2| 1977218|0.026263186398439248|\n",
      "|         3|  169433|0.002250561375147686|\n",
      "|         4|   58673|7.793475153248787E-4|\n",
      "|         5|  443577|0.005891988355892...|\n",
      "|         6|     489|6.495337463464723E-6|\n",
      "|        99|    3483|4.626433616615057E-5|\n",
      "+----------+--------+--------------------+\n",
      "\n",
      "+------------------+--------+--------------------+\n",
      "|store_and_fwd_flag|   count|          percentage|\n",
      "+------------------+--------+--------------------+\n",
      "|              null|  212642|0.002824502145002179|\n",
      "|                 N|74439931|  0.9887780625808364|\n",
      "|                 Y|  632199| 0.00839743527416142|\n",
      "+------------------+--------+--------------------+\n",
      "\n",
      "+------------+-------+--------------------+\n",
      "|PULocationID|  count|          percentage|\n",
      "+------------+-------+--------------------+\n",
      "|           1|   7615|1.011492735874925...|\n",
      "|          10|  27357|3.633802596891706E-4|\n",
      "|         100|1530421| 0.02032842710873854|\n",
      "|         101|   2015|2.676504087705811...|\n",
      "|         102|   1838|2.441396780746045...|\n",
      "|         104|      1|1.328289869829186...|\n",
      "|         105|    103|1.368138565924062...|\n",
      "|         106|   8711|1.157073305608204...|\n",
      "|         107|1693511| 0.02249473505744296|\n",
      "|         108|   1500|1.992434804743780...|\n",
      "|         109|     63|8.368226179923876E-7|\n",
      "|          11|   1373|1.823741991275473...|\n",
      "|         111|    139|1.846322919062569...|\n",
      "|         112|  22225|2.952124235695367...|\n",
      "|         113|1142053|0.015169774307080322|\n",
      "|         114| 955773|0.012695435937562513|\n",
      "|         115|    164|2.178395386519866...|\n",
      "|         116|  86145|0.001144255308364353|\n",
      "|         117|   1661|2.206289473786279...|\n",
      "|         118|    342|4.542751354815818E-6|\n",
      "+------------+-------+--------------------+\n",
      "only showing top 20 rows\n",
      "\n",
      "+------------+-------+--------------------+\n",
      "|DOLocationID|  count|          percentage|\n",
      "+------------+-------+--------------------+\n",
      "|           1| 156097|0.002073420638107...|\n",
      "|          10|  56477|7.501782697834298E-4|\n",
      "|         100|1184775|0.015737246305268748|\n",
      "|         101|   6187|8.218129424633179E-5|\n",
      "|         102|  11261|1.495787222414647...|\n",
      "|         105|     75|  9.9621740237189E-7|\n",
      "|         106|  34575|4.592562224934413E-4|\n",
      "|         107|1551689|0.020610927798253808|\n",
      "|         108|   5594| 7.43045353182447E-5|\n",
      "|         109|    897|1.191476013236780...|\n",
      "|          11|   6121|8.130462293224452E-5|\n",
      "|         110|      4|5.313159479316747E-8|\n",
      "|         111|    980|1.301724072432603E-5|\n",
      "|         112| 154930|0.002057919495326359|\n",
      "|         113| 997166|0.013245254963380908|\n",
      "|         114| 744006|0.009882556328921339|\n",
      "|         115|   1336|1.774595266091793...|\n",
      "|         116| 201957|0.002682574372410...|\n",
      "|         117|   7193| 9.55438903368134E-5|\n",
      "|         118|   1904|2.529063912154771...|\n",
      "+------------+-------+--------------------+\n",
      "only showing top 20 rows\n",
      "\n",
      "+------------+--------+--------------------+\n",
      "|payment_type|   count|          percentage|\n",
      "+------------+--------+--------------------+\n",
      "|        null|  212644|0.002824528710799...|\n",
      "|           1|54123093|  0.7189115615572297|\n",
      "|           2|20386696|   0.270794417760872|\n",
      "|           3|  396858|0.005271424611606...|\n",
      "|           4|  165478|0.002198027510795...|\n",
      "|           5|       3| 3.98486960948756E-8|\n",
      "+------------+--------+--------------------+\n",
      "\n"
     ]
    }
   ],
   "source": [
    "categorical = [c for c in data.columns if dict(data.select(c).dtypes)[c] == 'string']\n",
    "for c in data.select(categorical).columns:\n",
    "    percentage(c)"
   ]
  },
  {
   "cell_type": "code",
   "execution_count": 45,
   "metadata": {},
   "outputs": [
    {
     "data": {
      "image/png": "[encoded data removed]",
      "text/plain": [
       "<Figure size 720x576 with 1 Axes>"
      ]
     },
     "metadata": {
      "needs_background": "light"
     },
     "output_type": "display_data"
    }
   ],
   "source": [
    "vendor = percentage('VendorID')\n",
    "bar(vendor, 'VendorID', 'count')"
   ]
  },
  {
   "cell_type": "code",
   "execution_count": 179,
   "metadata": {},
   "outputs": [
    {
     "name": "stdout",
     "output_type": "stream",
     "text": [
      "+-------+------------------+-------------------+------------------+---------------------+--------------------+------------------+------------------+------------------+------------------+------------------+\n",
      "|summary|             extra|            mta_tax|   passenger_count|improvement_surcharge|congestion_surcharge|      tolls_amount|     trip_distance|        tip_amount|       fare_amount|      total_amount|\n",
      "+-------+------------------+-------------------+------------------+---------------------+--------------------+------------------+------------------+------------------+------------------+------------------+\n",
      "|  count|          75284769|           75284769|          75072130|             75284769|            70428788|          75284769|          75284772|          75284769|          75284769|          75284769|\n",
      "|   mean|   1.0764021256393|0.49467046422089744|1.5619848537666374|   0.2986233801600075|  2.1778940963743407|0.3799363483043255|2.9900554357980926|2.1890400254703297| 13.29965237766452|19.045190035566794|\n",
      "| stddev|1.2446270251794977|0.06309426239314402|1.2075781077020835|  0.02777585817544854|  0.8486832852623931|1.8101213351380419| 6.584803380744686| 16.54576610173635|180.18800986991434|190.68281309487298|\n",
      "|    min|             -60.0|               -0.5|                 0|                 -0.3|                -2.5|             -70.0|         -37264.53|            -200.8|           -1856.0|           -1871.8|\n",
      "|    25%|               0.0|                0.5|                 1|                  0.3|                 2.5|               0.0|              0.98|               0.0|               6.5|             11.15|\n",
      "|    50%|               0.5|                0.5|                 1|                  0.3|                 2.5|               0.0|              1.62|              1.86|               9.5|              14.3|\n",
      "|    75%|               2.5|                0.5|                 2|                  0.3|                 2.5|               0.0|              3.04|              2.95|              14.5|              20.6|\n",
      "|    max|            535.38|               75.0|                 9|                  1.0|                 4.5|            3288.0|          19130.18|         141492.02|          943274.8|         1084772.1|\n",
      "+-------+------------------+-------------------+------------------+---------------------+--------------------+------------------+------------------+------------------+------------------+------------------+\n",
      "\n"
     ]
    }
   ],
   "source": [
    "numeric = list(set(df.columns) - set(categorical))\n",
    "data.select(numeric).summary().show()"
   ]
  },
  {
   "cell_type": "code",
   "execution_count": 97,
   "metadata": {},
   "outputs": [],
   "source": [
    "passenger = percentage('passenger_count')\n",
    "\n",
    "labels = passenger.select('passenger_count').toPandas()\n",
    "labels = labels['passenger_count']\n",
    "sizes = passenger.select('count').toPandas()\n",
    "sizes = sizes['count']"
   ]
  },
  {
   "cell_type": "code",
   "execution_count": 101,
   "metadata": {},
   "outputs": [
    {
     "data": {
      "image/png": "[encoded data removed]",
      "text/plain": [
       "<Figure size 720x576 with 1 Axes>"
      ]
     },
     "metadata": {},
     "output_type": "display_data"
    }
   ],
   "source": [
    "colors = ['gold', 'yellowgreen', 'lightcoral', 'blue', 'lightskyblue', 'green', 'red']\n",
    "\n",
    "plt.figure(figsize=(10,8))\n",
    "plt.pie(sizes, labels=labels, colors=colors,\n",
    "        autopct='%1.1f%%', shadow=True, startangle=140)\n",
    "\n",
    "plt.axis('equal')\n",
    "plt.show()"
   ]
  },
  {
   "cell_type": "code",
   "execution_count": 90,
   "metadata": {},
   "outputs": [],
   "source": [
    "trip = data.select('trip_distance').filter((data.trip_distance >= 0) & (data.trip_distance < 30))"
   ]
  },
  {
   "cell_type": "code",
   "execution_count": 91,
   "metadata": {},
   "outputs": [
    {
     "data": {
      "text/plain": [
       "([0.0,\n",
       "  5.997999954223633,\n",
       "  11.995999908447265,\n",
       "  17.993999862670897,\n",
       "  23.99199981689453,\n",
       "  29.989999771118164],\n",
       " [66292700, 5580205, 2065180, 1198916, 100433])"
      ]
     },
     "execution_count": 91,
     "metadata": {},
     "output_type": "execute_result"
    }
   ],
   "source": [
    "hists_trip = trip.select('trip_distance').rdd.flatMap(lambda row: row).histogram(5)\n",
    "hists_trip"
   ]
  },
  {
   "cell_type": "code",
   "execution_count": 92,
   "metadata": {},
   "outputs": [
    {
     "data": {
      "text/plain": [
       "Text(0.5, 0, 'Trip Distance')"
      ]
     },
     "execution_count": 92,
     "metadata": {},
     "output_type": "execute_result"
    },
    {
     "data": {
      "image/png": "[encoded data removed]",
      "text/plain": [
       "<Figure size 432x288 with 1 Axes>"
      ]
     },
     "metadata": {
      "needs_background": "light"
     },
     "output_type": "display_data"
    }
   ],
   "source": [
    "data_hist = {\n",
    "    'bins': hists_trip[0][:-1],\n",
    "    'freq': hists_trip[1]\n",
    "    }\n",
    "plt.bar(data_hist['bins'], data_hist['freq'], width=5)\n",
    "plt.title('Histogram of ' + 'Trip Distance')\n",
    "plt.ylabel('Frequency')\n",
    "plt.xlabel('Trip Distance')"
   ]
  },
  {
   "cell_type": "code",
   "execution_count": 102,
   "metadata": {},
   "outputs": [
    {
     "name": "stdout",
     "output_type": "stream",
     "text": [
      "[NbConvertApp] Converting notebook masterfinalproject.ipynb to pdf\n",
      "[NbConvertApp] Support files will be in masterfinalproject_files/\n",
      "[NbConvertApp] Making directory ./masterfinalproject_files\n",
      "[NbConvertApp] Making directory ./masterfinalproject_files\n",
      "[NbConvertApp] Making directory ./masterfinalproject_files\n",
      "[NbConvertApp] Making directory ./masterfinalproject_files\n",
      "[NbConvertApp] Making directory ./masterfinalproject_files\n",
      "[NbConvertApp] Writing 57369 bytes to ./notebook.tex\n",
      "[NbConvertApp] Building PDF\n",
      "[NbConvertApp] Running xelatex 3 times: ['xelatex', './notebook.tex', '-quiet']\n",
      "[NbConvertApp] Running bibtex 1 time: ['bibtex', './notebook']\n",
      "[NbConvertApp] WARNING | bibtex had problems, most likely because there were no citations\n",
      "[NbConvertApp] PDF successfully created\n",
      "[NbConvertApp] Writing 113487 bytes to masterfinalproject.pdf\n"
     ]
    }
   ],
   "source": [
    "!jupyter nbconvert --to pdf masterfinalproject.ipynb"
   ]
  }
 ],
 "metadata": {
  "kernelspec": {
   "display_name": "DS 5559",
   "language": "python",
   "name": "ds5559"
  },
  "language_info": {
   "codemirror_mode": {
    "name": "ipython",
    "version": 3
   },
   "file_extension": ".py",
   "mimetype": "text/x-python",
   "name": "python",
   "nbconvert_exporter": "python",
   "pygments_lexer": "ipython3",
   "version": "3.7.6"
  }
 },
 "nbformat": 4,
 "nbformat_minor": 4
}
